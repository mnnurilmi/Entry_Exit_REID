{
  "nbformat": 4,
  "nbformat_minor": 0,
  "metadata": {
    "colab": {
      "provenance": [],
      "collapsed_sections": [
        "KoXh07Mxb-Lb"
      ]
    },
    "kernelspec": {
      "name": "python3",
      "display_name": "Python 3"
    },
    "language_info": {
      "name": "python"
    },
    "gpuClass": "standard",
    "accelerator": "GPU"
  },
  "cells": [
    {
      "cell_type": "markdown",
      "source": [
        "# Link models\n",
        "\n",
        "https://drive.google.com/drive/folders/1ysQAZ3gRIR84akooujtJyRcdMypia6jx?usp=share_link\n"
      ],
      "metadata": {
        "id": "htcXrVuIb4ul"
      }
    },
    {
      "cell_type": "code",
      "source": [
        "!nvidia-smi"
      ],
      "metadata": {
        "colab": {
          "base_uri": "https://localhost:8080/"
        },
        "id": "2g699wwfg5KA",
        "outputId": "0058be3e-7115-4bbe-9e17-8ff43108d0ad"
      },
      "execution_count": 1,
      "outputs": [
        {
          "output_type": "stream",
          "name": "stdout",
          "text": [
            "NVIDIA-SMI has failed because it couldn't communicate with the NVIDIA driver. Make sure that the latest NVIDIA driver is installed and running.\n",
            "\n"
          ]
        }
      ]
    },
    {
      "cell_type": "code",
      "source": [
        "from google.colab import drive\n",
        "drive.mount('/content/drive/')"
      ],
      "metadata": {
        "colab": {
          "base_uri": "https://localhost:8080/"
        },
        "id": "BoCpfGCAaOIj",
        "outputId": "6611fa05-e0f1-4971-e812-e7bd5ec882d7"
      },
      "execution_count": 2,
      "outputs": [
        {
          "output_type": "stream",
          "name": "stdout",
          "text": [
            "Mounted at /content/drive/\n"
          ]
        }
      ]
    },
    {
      "cell_type": "code",
      "execution_count": 3,
      "metadata": {
        "colab": {
          "base_uri": "https://localhost:8080/"
        },
        "id": "4PEcncWWV3Xz",
        "outputId": "59a089c6-5063-48ae-a65b-717f0b012dae"
      },
      "outputs": [
        {
          "output_type": "stream",
          "name": "stdout",
          "text": [
            "drive  sample_data\n",
            "/content/drive/MyDrive/Colab Notebooks/MGN\n",
            "0002_c1_f0044878.jpg  Entry_Exit_REID.ipynb\t\t     torchreid.ipynb\n",
            "deep-person-reid      Market-1501-v15.09.15.zip\n",
            "Entry_Exit_REID       Miniconda3-py37_4.8.2-Linux-x86_64.sh\n"
          ]
        }
      ],
      "source": [
        "!ls\n",
        "%cd \"/content/drive/MyDrive/Colab Notebooks/MGN\"\n",
        "!ls"
      ]
    },
    {
      "cell_type": "code",
      "source": [
        "# !git clone \"https://github.com/mnnurilmi/Entry_Exit_REID.git\""
      ],
      "metadata": {
        "id": "Vyxz_zwkV-m_"
      },
      "execution_count": 4,
      "outputs": []
    },
    {
      "cell_type": "code",
      "source": [
        "!ls\n",
        "%cd Entry_Exit_REID\n",
        "!ls"
      ],
      "metadata": {
        "colab": {
          "base_uri": "https://localhost:8080/"
        },
        "id": "BR1X4oK-WDAN",
        "outputId": "cfb1d71f-f326-4c73-9fd2-8a37230e6791"
      },
      "execution_count": 5,
      "outputs": [
        {
          "output_type": "stream",
          "name": "stdout",
          "text": [
            "0002_c1_f0044878.jpg  Entry_Exit_REID.ipynb\t\t     torchreid.ipynb\n",
            "deep-person-reid      Market-1501-v15.09.15.zip\n",
            "Entry_Exit_REID       Miniconda3-py37_4.8.2-Linux-x86_64.sh\n",
            "/content/drive/MyDrive/Colab Notebooks/MGN/Entry_Exit_REID\n",
            "'=4.4'\t\t\t Miniconda3-latest-Linux-x86_64.sh\t temp\n",
            " configs\t\t Miniconda3-py37_4.8.2-Linux-x86_64.sh\t test\n",
            " deep-person-reid\t models\t\t\t\t\t tools\n",
            " Entry_Exit_REID.ipynb\t requirements.txt\t\t\t tracker\n",
            " id_assigner\t\t runs\t\t\t\t\t yolov7\n"
          ]
        }
      ]
    },
    {
      "cell_type": "markdown",
      "source": [
        "# cloning"
      ],
      "metadata": {
        "id": "KKloQyL8WQyM"
      }
    },
    {
      "cell_type": "code",
      "source": [
        "# !git clone \"https://github.com/WongKinYiu/yolov7.git\"\n",
        "# !git clone \"https://github.com/KaiyangZhou/deep-person-reid.git\"\n",
        "# !ls"
      ],
      "metadata": {
        "id": "R_ONlJpAWEKb"
      },
      "execution_count": 6,
      "outputs": []
    },
    {
      "cell_type": "markdown",
      "source": [
        "# Conda"
      ],
      "metadata": {
        "id": "JCeYyMU1Wvc9"
      }
    },
    {
      "cell_type": "code",
      "source": [
        "# ! wget https://repo.anaconda.com/miniconda/Miniconda3-latest-Linux-x86_64.sh\n",
        "! chmod +x Miniconda3-latest-Linux-x86_64.sh\n",
        "! bash ./Miniconda3-latest-Linux-x86_64.sh -b -f -p /usr/local\n",
        "import sys\n",
        "sys.path.append('/usr/local/lib/python3.7/site-packages/')"
      ],
      "metadata": {
        "colab": {
          "base_uri": "https://localhost:8080/"
        },
        "id": "EEfSfqs0WoO2",
        "outputId": "c40a9a83-4a0a-4149-da51-f47dacf2d98e"
      },
      "execution_count": 7,
      "outputs": [
        {
          "output_type": "stream",
          "name": "stdout",
          "text": [
            "PREFIX=/usr/local\n",
            "Unpacking payload ...\n",
            "Collecting package metadata (current_repodata.json): - \b\b\\ \b\b| \b\b/ \b\bdone\n",
            "Solving environment: \\ \b\b| \b\b/ \b\b- \b\b\\ \b\b| \b\bdone\n",
            "\n",
            "## Package Plan ##\n",
            "\n",
            "  environment location: /usr/local\n",
            "\n",
            "  added / updated specs:\n",
            "    - _libgcc_mutex==0.1=main\n",
            "    - _openmp_mutex==4.5=1_gnu\n",
            "    - brotlipy==0.7.0=py39h27cfd23_1003\n",
            "    - ca-certificates==2022.3.29=h06a4308_1\n",
            "    - certifi==2021.10.8=py39h06a4308_2\n",
            "    - cffi==1.15.0=py39hd667e15_1\n",
            "    - charset-normalizer==2.0.4=pyhd3eb1b0_0\n",
            "    - colorama==0.4.4=pyhd3eb1b0_0\n",
            "    - conda-content-trust==0.1.1=pyhd3eb1b0_0\n",
            "    - conda-package-handling==1.8.1=py39h7f8727e_0\n",
            "    - conda==4.12.0=py39h06a4308_0\n",
            "    - cryptography==36.0.0=py39h9ce1e76_0\n",
            "    - idna==3.3=pyhd3eb1b0_0\n",
            "    - ld_impl_linux-64==2.35.1=h7274673_9\n",
            "    - libffi==3.3=he6710b0_2\n",
            "    - libgcc-ng==9.3.0=h5101ec6_17\n",
            "    - libgomp==9.3.0=h5101ec6_17\n",
            "    - libstdcxx-ng==9.3.0=hd4cf53a_17\n",
            "    - ncurses==6.3=h7f8727e_2\n",
            "    - openssl==1.1.1n=h7f8727e_0\n",
            "    - pip==21.2.4=py39h06a4308_0\n",
            "    - pycosat==0.6.3=py39h27cfd23_0\n",
            "    - pycparser==2.21=pyhd3eb1b0_0\n",
            "    - pyopenssl==22.0.0=pyhd3eb1b0_0\n",
            "    - pysocks==1.7.1=py39h06a4308_0\n",
            "    - python==3.9.12=h12debd9_0\n",
            "    - readline==8.1.2=h7f8727e_1\n",
            "    - requests==2.27.1=pyhd3eb1b0_0\n",
            "    - ruamel_yaml==0.15.100=py39h27cfd23_0\n",
            "    - setuptools==61.2.0=py39h06a4308_0\n",
            "    - six==1.16.0=pyhd3eb1b0_1\n",
            "    - sqlite==3.38.2=hc218d9a_0\n",
            "    - tk==8.6.11=h1ccaba5_0\n",
            "    - tqdm==4.63.0=pyhd3eb1b0_0\n",
            "    - tzdata==2022a=hda174b7_0\n",
            "    - urllib3==1.26.8=pyhd3eb1b0_0\n",
            "    - wheel==0.37.1=pyhd3eb1b0_0\n",
            "    - xz==5.2.5=h7b6447c_0\n",
            "    - yaml==0.2.5=h7b6447c_0\n",
            "    - zlib==1.2.12=h7f8727e_1\n",
            "\n",
            "\n",
            "The following NEW packages will be INSTALLED:\n",
            "\n",
            "  _libgcc_mutex      pkgs/main/linux-64::_libgcc_mutex-0.1-main\n",
            "  _openmp_mutex      pkgs/main/linux-64::_openmp_mutex-4.5-1_gnu\n",
            "  brotlipy           pkgs/main/linux-64::brotlipy-0.7.0-py39h27cfd23_1003\n",
            "  ca-certificates    pkgs/main/linux-64::ca-certificates-2022.3.29-h06a4308_1\n",
            "  certifi            pkgs/main/linux-64::certifi-2021.10.8-py39h06a4308_2\n",
            "  cffi               pkgs/main/linux-64::cffi-1.15.0-py39hd667e15_1\n",
            "  charset-normalizer pkgs/main/noarch::charset-normalizer-2.0.4-pyhd3eb1b0_0\n",
            "  colorama           pkgs/main/noarch::colorama-0.4.4-pyhd3eb1b0_0\n",
            "  conda              pkgs/main/linux-64::conda-4.12.0-py39h06a4308_0\n",
            "  conda-content-tru~ pkgs/main/noarch::conda-content-trust-0.1.1-pyhd3eb1b0_0\n",
            "  conda-package-han~ pkgs/main/linux-64::conda-package-handling-1.8.1-py39h7f8727e_0\n",
            "  cryptography       pkgs/main/linux-64::cryptography-36.0.0-py39h9ce1e76_0\n",
            "  idna               pkgs/main/noarch::idna-3.3-pyhd3eb1b0_0\n",
            "  ld_impl_linux-64   pkgs/main/linux-64::ld_impl_linux-64-2.35.1-h7274673_9\n",
            "  libffi             pkgs/main/linux-64::libffi-3.3-he6710b0_2\n",
            "  libgcc-ng          pkgs/main/linux-64::libgcc-ng-9.3.0-h5101ec6_17\n",
            "  libgomp            pkgs/main/linux-64::libgomp-9.3.0-h5101ec6_17\n",
            "  libstdcxx-ng       pkgs/main/linux-64::libstdcxx-ng-9.3.0-hd4cf53a_17\n",
            "  ncurses            pkgs/main/linux-64::ncurses-6.3-h7f8727e_2\n",
            "  openssl            pkgs/main/linux-64::openssl-1.1.1n-h7f8727e_0\n",
            "  pip                pkgs/main/linux-64::pip-21.2.4-py39h06a4308_0\n",
            "  pycosat            pkgs/main/linux-64::pycosat-0.6.3-py39h27cfd23_0\n",
            "  pycparser          pkgs/main/noarch::pycparser-2.21-pyhd3eb1b0_0\n",
            "  pyopenssl          pkgs/main/noarch::pyopenssl-22.0.0-pyhd3eb1b0_0\n",
            "  pysocks            pkgs/main/linux-64::pysocks-1.7.1-py39h06a4308_0\n",
            "  python             pkgs/main/linux-64::python-3.9.12-h12debd9_0\n",
            "  readline           pkgs/main/linux-64::readline-8.1.2-h7f8727e_1\n",
            "  requests           pkgs/main/noarch::requests-2.27.1-pyhd3eb1b0_0\n",
            "  ruamel_yaml        pkgs/main/linux-64::ruamel_yaml-0.15.100-py39h27cfd23_0\n",
            "  setuptools         pkgs/main/linux-64::setuptools-61.2.0-py39h06a4308_0\n",
            "  six                pkgs/main/noarch::six-1.16.0-pyhd3eb1b0_1\n",
            "  sqlite             pkgs/main/linux-64::sqlite-3.38.2-hc218d9a_0\n",
            "  tk                 pkgs/main/linux-64::tk-8.6.11-h1ccaba5_0\n",
            "  tqdm               pkgs/main/noarch::tqdm-4.63.0-pyhd3eb1b0_0\n",
            "  tzdata             pkgs/main/noarch::tzdata-2022a-hda174b7_0\n",
            "  urllib3            pkgs/main/noarch::urllib3-1.26.8-pyhd3eb1b0_0\n",
            "  wheel              pkgs/main/noarch::wheel-0.37.1-pyhd3eb1b0_0\n",
            "  xz                 pkgs/main/linux-64::xz-5.2.5-h7b6447c_0\n",
            "  yaml               pkgs/main/linux-64::yaml-0.2.5-h7b6447c_0\n",
            "  zlib               pkgs/main/linux-64::zlib-1.2.12-h7f8727e_1\n",
            "\n",
            "\n",
            "Preparing transaction: - \b\b\\ \b\b| \b\b/ \b\b- \b\b\\ \b\bdone\n",
            "Executing transaction: / \b\b- \b\b\\ \b\b| \b\b/ \b\b- \b\b\\ \b\b| \b\b/ \b\b- \b\b\\ \b\b| \b\b/ \b\b- \b\b\\ \b\b| \b\b/ \b\b- \b\b\\ \b\b| \b\b/ \b\bdone\n",
            "installation finished.\n",
            "WARNING:\n",
            "    You currently have a PYTHONPATH environment variable set. This may cause\n",
            "    unexpected behavior when running the Python interpreter in Miniconda3.\n",
            "    For best results, please verify that your PYTHONPATH only points to\n",
            "    directories of packages that are compatible with the Python interpreter\n",
            "    in Miniconda3: /usr/local\n"
          ]
        }
      ]
    },
    {
      "cell_type": "code",
      "source": [
        "!conda --version\n",
        "!ls"
      ],
      "metadata": {
        "colab": {
          "base_uri": "https://localhost:8080/"
        },
        "id": "a6agVHCpW1SH",
        "outputId": "0b7a86e8-61d6-4c49-9432-15a3940f5c4f"
      },
      "execution_count": 8,
      "outputs": [
        {
          "output_type": "stream",
          "name": "stdout",
          "text": [
            "conda 4.12.0\n",
            "'=4.4'\t\t\t Miniconda3-latest-Linux-x86_64.sh\t temp\n",
            " configs\t\t Miniconda3-py37_4.8.2-Linux-x86_64.sh\t test\n",
            " deep-person-reid\t models\t\t\t\t\t tools\n",
            " Entry_Exit_REID.ipynb\t requirements.txt\t\t\t tracker\n",
            " id_assigner\t\t runs\t\t\t\t\t yolov7\n"
          ]
        }
      ]
    },
    {
      "cell_type": "code",
      "source": [
        "# create environment\n",
        "!conda create --name Entry_Exit_REID python=3.7 -y\n",
        "!conda activate Entry_Exit_REID"
      ],
      "metadata": {
        "colab": {
          "base_uri": "https://localhost:8080/"
        },
        "id": "evYeKx3xnLon",
        "outputId": "877ee1c5-a101-44d7-d118-b53b8f092d2b"
      },
      "execution_count": 9,
      "outputs": [
        {
          "output_type": "stream",
          "name": "stdout",
          "text": [
            "Collecting package metadata (current_repodata.json): - \b\b\\ \b\b| \b\b/ \b\b- \b\b\\ \b\b| \b\b/ \b\b- \b\b\\ \b\b| \b\b/ \b\b- \b\b\\ \b\b| \b\b/ \b\b- \b\b\\ \b\b| \b\b/ \b\b- \b\b\\ \b\b| \b\b/ \b\b- \b\b\\ \b\b| \b\b/ \b\b- \b\b\\ \b\b| \b\b/ \b\b- \b\b\\ \b\b| \b\b/ \b\b- \b\bdone\n",
            "Solving environment: | \b\b/ \b\bdone\n",
            "\n",
            "\n",
            "==> WARNING: A newer version of conda exists. <==\n",
            "  current version: 4.12.0\n",
            "  latest version: 22.11.1\n",
            "\n",
            "Please update conda by running\n",
            "\n",
            "    $ conda update -n base -c defaults conda\n",
            "\n",
            "\n",
            "\n",
            "## Package Plan ##\n",
            "\n",
            "  environment location: /usr/local/envs/Entry_Exit_REID\n",
            "\n",
            "  added / updated specs:\n",
            "    - python=3.7\n",
            "\n",
            "\n",
            "The following packages will be downloaded:\n",
            "\n",
            "    package                    |            build\n",
            "    ---------------------------|-----------------\n",
            "    _openmp_mutex-5.1          |            1_gnu          21 KB\n",
            "    ca-certificates-2022.10.11 |       h06a4308_0         124 KB\n",
            "    certifi-2022.9.24          |   py37h06a4308_0         154 KB\n",
            "    ld_impl_linux-64-2.38      |       h1181459_1         654 KB\n",
            "    libffi-3.4.2               |       h6a678d5_6         136 KB\n",
            "    libgcc-ng-11.2.0           |       h1234567_1         5.3 MB\n",
            "    libgomp-11.2.0             |       h1234567_1         474 KB\n",
            "    libstdcxx-ng-11.2.0        |       h1234567_1         4.7 MB\n",
            "    ncurses-6.3                |       h5eee18b_3         781 KB\n",
            "    openssl-1.1.1s             |       h7f8727e_0         3.6 MB\n",
            "    pip-22.3.1                 |   py37h06a4308_0         2.7 MB\n",
            "    python-3.7.15              |       h7a1cb2a_1        40.7 MB\n",
            "    readline-8.2               |       h5eee18b_0         357 KB\n",
            "    setuptools-65.5.0          |   py37h06a4308_0         1.1 MB\n",
            "    sqlite-3.40.0              |       h5082296_0         1.2 MB\n",
            "    tk-8.6.12                  |       h1ccaba5_0         3.0 MB\n",
            "    xz-5.2.8                   |       h5eee18b_0         429 KB\n",
            "    zlib-1.2.13                |       h5eee18b_0         103 KB\n",
            "    ------------------------------------------------------------\n",
            "                                           Total:        65.5 MB\n",
            "\n",
            "The following NEW packages will be INSTALLED:\n",
            "\n",
            "  _libgcc_mutex      pkgs/main/linux-64::_libgcc_mutex-0.1-main\n",
            "  _openmp_mutex      pkgs/main/linux-64::_openmp_mutex-5.1-1_gnu\n",
            "  ca-certificates    pkgs/main/linux-64::ca-certificates-2022.10.11-h06a4308_0\n",
            "  certifi            pkgs/main/linux-64::certifi-2022.9.24-py37h06a4308_0\n",
            "  ld_impl_linux-64   pkgs/main/linux-64::ld_impl_linux-64-2.38-h1181459_1\n",
            "  libffi             pkgs/main/linux-64::libffi-3.4.2-h6a678d5_6\n",
            "  libgcc-ng          pkgs/main/linux-64::libgcc-ng-11.2.0-h1234567_1\n",
            "  libgomp            pkgs/main/linux-64::libgomp-11.2.0-h1234567_1\n",
            "  libstdcxx-ng       pkgs/main/linux-64::libstdcxx-ng-11.2.0-h1234567_1\n",
            "  ncurses            pkgs/main/linux-64::ncurses-6.3-h5eee18b_3\n",
            "  openssl            pkgs/main/linux-64::openssl-1.1.1s-h7f8727e_0\n",
            "  pip                pkgs/main/linux-64::pip-22.3.1-py37h06a4308_0\n",
            "  python             pkgs/main/linux-64::python-3.7.15-h7a1cb2a_1\n",
            "  readline           pkgs/main/linux-64::readline-8.2-h5eee18b_0\n",
            "  setuptools         pkgs/main/linux-64::setuptools-65.5.0-py37h06a4308_0\n",
            "  sqlite             pkgs/main/linux-64::sqlite-3.40.0-h5082296_0\n",
            "  tk                 pkgs/main/linux-64::tk-8.6.12-h1ccaba5_0\n",
            "  wheel              pkgs/main/noarch::wheel-0.37.1-pyhd3eb1b0_0\n",
            "  xz                 pkgs/main/linux-64::xz-5.2.8-h5eee18b_0\n",
            "  zlib               pkgs/main/linux-64::zlib-1.2.13-h5eee18b_0\n",
            "\n",
            "\n",
            "\n",
            "Downloading and Extracting Packages\n",
            "libstdcxx-ng-11.2.0  | 4.7 MB    | : 100% 1.0/1 [00:00<00:00,  2.06it/s]               \n",
            "ld_impl_linux-64-2.3 | 654 KB    | : 100% 1.0/1 [00:00<00:00,  3.50it/s]\n",
            "libffi-3.4.2         | 136 KB    | : 100% 1.0/1 [00:00<00:00,  2.85it/s]\n",
            "openssl-1.1.1s       | 3.6 MB    | : 100% 1.0/1 [00:00<00:00,  5.50it/s]\n",
            "certifi-2022.9.24    | 154 KB    | : 100% 1.0/1 [00:00<00:00, 13.03it/s]\n",
            "_openmp_mutex-5.1    | 21 KB     | : 100% 1.0/1 [00:00<00:00, 13.96it/s]\n",
            "xz-5.2.8             | 429 KB    | : 100% 1.0/1 [00:00<00:00, 10.77it/s]\n",
            "libgomp-11.2.0       | 474 KB    | : 100% 1.0/1 [00:00<00:00, 11.91it/s]\n",
            "libgcc-ng-11.2.0     | 5.3 MB    | : 100% 1.0/1 [00:00<00:00,  4.07it/s]\n",
            "setuptools-65.5.0    | 1.1 MB    | : 100% 1.0/1 [00:00<00:00,  4.94it/s]\n",
            "readline-8.2         | 357 KB    | : 100% 1.0/1 [00:00<00:00,  7.72it/s]\n",
            "python-3.7.15        | 40.7 MB   | : 100% 1.0/1 [00:01<00:00,  1.48s/it]\n",
            "sqlite-3.40.0        | 1.2 MB    | : 100% 1.0/1 [00:00<00:00,  8.97it/s]\n",
            "zlib-1.2.13          | 103 KB    | : 100% 1.0/1 [00:00<00:00, 11.73it/s]\n",
            "ncurses-6.3          | 781 KB    | : 100% 1.0/1 [00:00<00:00,  3.18it/s]\n",
            "pip-22.3.1           | 2.7 MB    | : 100% 1.0/1 [00:00<00:00,  2.43it/s]\n",
            "tk-8.6.12            | 3.0 MB    | : 100% 1.0/1 [00:00<00:00,  4.79it/s]\n",
            "ca-certificates-2022 | 124 KB    | : 100% 1.0/1 [00:00<00:00,  8.25it/s]\n",
            "Preparing transaction: \\ \b\b| \b\b/ \b\b- \b\bdone\n",
            "Verifying transaction: | \b\b/ \b\b- \b\b\\ \b\b| \b\b/ \b\b- \b\b\\ \b\b| \b\b/ \b\b- \b\bdone\n",
            "Executing transaction: | \b\b/ \b\b- \b\b\\ \b\b| \b\b/ \b\b- \b\b\\ \b\b| \b\b/ \b\b- \b\b\\ \b\b| \b\b/ \b\b- \b\b\\ \b\b| \b\b/ \b\bdone\n",
            "#\n",
            "# To activate this environment, use\n",
            "#\n",
            "#     $ conda activate Entry_Exit_REID\n",
            "#\n",
            "# To deactivate an active environment, use\n",
            "#\n",
            "#     $ conda deactivate\n",
            "\n",
            "\n",
            "CommandNotFoundError: Your shell has not been properly configured to use 'conda activate'.\n",
            "To initialize your shell, run\n",
            "\n",
            "    $ conda init <SHELL_NAME>\n",
            "\n",
            "Currently supported shells are:\n",
            "  - bash\n",
            "  - fish\n",
            "  - tcsh\n",
            "  - xonsh\n",
            "  - zsh\n",
            "  - powershell\n",
            "\n",
            "See 'conda init --help' for more information and options.\n",
            "\n",
            "IMPORTANT: You may need to close and restart your shell after running 'conda init'.\n",
            "\n",
            "\n"
          ]
        }
      ]
    },
    {
      "cell_type": "code",
      "source": [
        "!conda install cudatoolkit -y"
      ],
      "metadata": {
        "colab": {
          "base_uri": "https://localhost:8080/"
        },
        "id": "QQ7UPzfVwz94",
        "outputId": "adc9de39-9d0a-4615-e17b-6886477e6318"
      },
      "execution_count": 10,
      "outputs": [
        {
          "output_type": "stream",
          "name": "stdout",
          "text": [
            "Collecting package metadata (current_repodata.json): - \b\b\\ \b\b| \b\b/ \b\b- \b\b\\ \b\bdone\n",
            "Solving environment: / \b\b- \b\b\\ \b\b| \b\bdone\n",
            "\n",
            "\n",
            "==> WARNING: A newer version of conda exists. <==\n",
            "  current version: 4.12.0\n",
            "  latest version: 22.11.1\n",
            "\n",
            "Please update conda by running\n",
            "\n",
            "    $ conda update -n base -c defaults conda\n",
            "\n",
            "\n",
            "\n",
            "## Package Plan ##\n",
            "\n",
            "  environment location: /usr/local\n",
            "\n",
            "  added / updated specs:\n",
            "    - cudatoolkit\n",
            "\n",
            "\n",
            "The following packages will be downloaded:\n",
            "\n",
            "    package                    |            build\n",
            "    ---------------------------|-----------------\n",
            "    certifi-2022.9.24          |   py39h06a4308_0         154 KB\n",
            "    cudatoolkit-11.3.1         |       h2bc3f7f_2       549.3 MB\n",
            "    ------------------------------------------------------------\n",
            "                                           Total:       549.4 MB\n",
            "\n",
            "The following NEW packages will be INSTALLED:\n",
            "\n",
            "  cudatoolkit        pkgs/main/linux-64::cudatoolkit-11.3.1-h2bc3f7f_2\n",
            "\n",
            "The following packages will be UPDATED:\n",
            "\n",
            "  ca-certificates                      2022.3.29-h06a4308_1 --> 2022.10.11-h06a4308_0\n",
            "  certifi                          2021.10.8-py39h06a4308_2 --> 2022.9.24-py39h06a4308_0\n",
            "  openssl                                 1.1.1n-h7f8727e_0 --> 1.1.1s-h7f8727e_0\n",
            "\n",
            "\n",
            "\n",
            "Downloading and Extracting Packages\n",
            "certifi-2022.9.24    | 154 KB    | : 100% 1.0/1 [00:00<00:00,  6.33it/s]               \n",
            "cudatoolkit-11.3.1   | 549.3 MB  | : 100% 1.0/1 [00:14<00:00, 14.71s/it]               \n",
            "Preparing transaction: - \b\bdone\n",
            "Verifying transaction: | \b\b/ \b\bdone\n",
            "Executing transaction: \\ \b\b| \b\b/ \b\b- \b\b\\ \b\b| \b\b/ \b\b- \b\b\\ \b\b| By downloading and using the CUDA Toolkit conda packages, you accept the terms and conditions of the CUDA End User License Agreement (EULA): https://docs.nvidia.com/cuda/eula/index.html\n",
            "\n",
            "\b\b/ \b\bdone\n"
          ]
        }
      ]
    },
    {
      "cell_type": "code",
      "source": [
        "#utama\n",
        "!pip install -r \"/content/drive/MyDrive/Colab Notebooks/MGN/Entry_Exit_REID/requirements.txt\"\n",
        "\n",
        "# tambahan\n",
        "!pip install cython\n",
        "!pip install cython_bbox\n",
        "!pip install importlib-metadata>=4.4"
      ],
      "metadata": {
        "colab": {
          "base_uri": "https://localhost:8080/",
          "height": 1000
        },
        "id": "8DPcfOpEWx4u",
        "outputId": "da838374-760d-467e-b183-2a5684b04ba3"
      },
      "execution_count": 11,
      "outputs": [
        {
          "output_type": "stream",
          "name": "stdout",
          "text": [
            "Looking in indexes: https://pypi.org/simple, https://us-python.pkg.dev/colab-wheels/public/simple/\n",
            "Collecting numpy\n",
            "  Downloading numpy-1.23.5-cp39-cp39-manylinux_2_17_x86_64.manylinux2014_x86_64.whl (17.1 MB)\n",
            "\u001b[K     |████████████████████████████████| 17.1 MB 5.6 MB/s \n",
            "\u001b[?25hCollecting Cython\n",
            "  Downloading Cython-0.29.32-cp39-cp39-manylinux_2_17_x86_64.manylinux2014_x86_64.manylinux_2_24_x86_64.whl (2.0 MB)\n",
            "\u001b[K     |████████████████████████████████| 2.0 MB 54.3 MB/s \n",
            "\u001b[?25hCollecting h5py\n",
            "  Downloading h5py-3.7.0-cp39-cp39-manylinux_2_12_x86_64.manylinux2010_x86_64.whl (4.5 MB)\n",
            "\u001b[K     |████████████████████████████████| 4.5 MB 62.4 MB/s \n",
            "\u001b[?25hCollecting Pillow\n",
            "  Downloading Pillow-9.3.0-cp39-cp39-manylinux_2_17_x86_64.manylinux2014_x86_64.whl (3.2 MB)\n",
            "\u001b[K     |████████████████████████████████| 3.2 MB 33.9 MB/s \n",
            "\u001b[?25hRequirement already satisfied: six in /usr/local/lib/python3.9/site-packages (from -r /content/drive/MyDrive/Colab Notebooks/MGN/Entry_Exit_REID/requirements.txt (line 6)) (1.16.0)\n",
            "Collecting scipy\n",
            "  Downloading scipy-1.9.3-cp39-cp39-manylinux_2_17_x86_64.manylinux2014_x86_64.whl (33.8 MB)\n",
            "\u001b[K     |████████████████████████████████| 33.8 MB 137 kB/s \n",
            "\u001b[?25hCollecting opencv-python\n",
            "  Downloading opencv_python-4.6.0.66-cp36-abi3-manylinux_2_17_x86_64.manylinux2014_x86_64.whl (60.9 MB)\n",
            "\u001b[K     |████████████████████████████████| 60.9 MB 1.2 MB/s \n",
            "\u001b[?25hCollecting matplotlib\n",
            "  Downloading matplotlib-3.6.2-cp39-cp39-manylinux_2_17_x86_64.manylinux2014_x86_64.whl (11.8 MB)\n",
            "\u001b[K     |████████████████████████████████| 11.8 MB 78.1 MB/s \n",
            "\u001b[?25hCollecting tb-nightly\n",
            "  Downloading tb_nightly-2.12.0a20221217-py3-none-any.whl (5.7 MB)\n",
            "\u001b[K     |████████████████████████████████| 5.7 MB 60.4 MB/s \n",
            "\u001b[?25hCollecting future\n",
            "  Downloading future-0.18.2.tar.gz (829 kB)\n",
            "\u001b[K     |████████████████████████████████| 829 kB 55.6 MB/s \n",
            "\u001b[?25hCollecting yacs\n",
            "  Downloading yacs-0.1.8-py3-none-any.whl (14 kB)\n",
            "Collecting gdown\n",
            "  Downloading gdown-4.6.0-py3-none-any.whl (14 kB)\n",
            "Collecting flake8\n",
            "  Downloading flake8-6.0.0-py2.py3-none-any.whl (57 kB)\n",
            "\u001b[K     |████████████████████████████████| 57 kB 6.0 MB/s \n",
            "\u001b[?25hCollecting yapf\n",
            "  Downloading yapf-0.32.0-py2.py3-none-any.whl (190 kB)\n",
            "\u001b[K     |████████████████████████████████| 190 kB 72.1 MB/s \n",
            "\u001b[?25hCollecting isort==4.3.21\n",
            "  Downloading isort-4.3.21-py2.py3-none-any.whl (42 kB)\n",
            "\u001b[K     |████████████████████████████████| 42 kB 1.1 MB/s \n",
            "\u001b[?25hCollecting imageio\n",
            "  Downloading imageio-2.22.4-py3-none-any.whl (3.4 MB)\n",
            "\u001b[K     |████████████████████████████████| 3.4 MB 50.9 MB/s \n",
            "\u001b[?25hCollecting PyYAML>=5.3.1\n",
            "  Downloading PyYAML-6.0-cp39-cp39-manylinux_2_5_x86_64.manylinux1_x86_64.manylinux_2_12_x86_64.manylinux2010_x86_64.whl (661 kB)\n",
            "\u001b[K     |████████████████████████████████| 661 kB 52.1 MB/s \n",
            "\u001b[?25hRequirement already satisfied: requests>=2.23.0 in /usr/local/lib/python3.9/site-packages (from -r /content/drive/MyDrive/Colab Notebooks/MGN/Entry_Exit_REID/requirements.txt (line 35)) (2.27.1)\n",
            "Collecting torch!=1.12.0,>=1.7.0\n",
            "  Downloading torch-1.13.1-cp39-cp39-manylinux1_x86_64.whl (887.4 MB)\n",
            "\u001b[K     |██████████████████████████████  | 834.1 MB 1.2 MB/s eta 0:00:43tcmalloc: large alloc 1147494400 bytes == 0x557dfa0ac000 @  0x7f27c703c615 0x557dc0d90100 0x557dc0d91ab1 0x557dc0d91c5d 0x557dc0d91d2b 0x557dc0db5674 0x557dc0d1372f 0x557dc0daa663 0x557dc0dabca4 0x557dc0d13755 0x557dc0daa663 0x557dc0dabda9 0x557dc0d1258e 0x557dc0d9fe5e 0x557dc0de9ec2 0x557dc0d9fe5e 0x557dc0de9ec2 0x557dc0d9fe5e 0x557dc0de9ec2 0x557dc0dab284 0x557dc0d95eca 0x557dc0d9fa15 0x557dc0d4fcaf 0x557dc0de980a 0x557dc0daa663 0x557dc0dab3c4 0x557dc0d1258e 0x557dc0daa663 0x557dc0dab354 0x557dc0d11ae6 0x557dc0dab284\n",
            "\u001b[K     |████████████████████████████████| 887.4 MB 11 kB/s \n",
            "\u001b[?25hCollecting torchvision!=0.13.0,>=0.8.1\n",
            "  Downloading torchvision-0.14.1-cp39-cp39-manylinux1_x86_64.whl (24.2 MB)\n",
            "\u001b[K     |████████████████████████████████| 24.2 MB 97.4 MB/s \n",
            "\u001b[?25hRequirement already satisfied: tqdm>=4.41.0 in /usr/local/lib/python3.9/site-packages (from -r /content/drive/MyDrive/Colab Notebooks/MGN/Entry_Exit_REID/requirements.txt (line 39)) (4.63.0)\n",
            "Collecting tensorboard>=2.4.1\n",
            "  Downloading tensorboard-2.11.0-py3-none-any.whl (6.0 MB)\n",
            "\u001b[K     |████████████████████████████████| 6.0 MB 71.5 MB/s \n",
            "\u001b[?25hCollecting pandas>=1.1.4\n",
            "  Downloading pandas-1.5.2-cp39-cp39-manylinux_2_17_x86_64.manylinux2014_x86_64.whl (12.2 MB)\n",
            "\u001b[K     |████████████████████████████████| 12.2 MB 54.3 MB/s \n",
            "\u001b[?25hCollecting seaborn>=0.11.0\n",
            "  Downloading seaborn-0.12.1-py3-none-any.whl (288 kB)\n",
            "\u001b[K     |████████████████████████████████| 288 kB 56.1 MB/s \n",
            "\u001b[?25hCollecting ipython\n",
            "  Downloading ipython-8.7.0-py3-none-any.whl (761 kB)\n",
            "\u001b[K     |████████████████████████████████| 761 kB 58.0 MB/s \n",
            "\u001b[?25hCollecting psutil\n",
            "  Downloading psutil-5.9.4-cp36-abi3-manylinux_2_12_x86_64.manylinux2010_x86_64.manylinux_2_17_x86_64.manylinux2014_x86_64.whl (280 kB)\n",
            "\u001b[K     |████████████████████████████████| 280 kB 57.2 MB/s \n",
            "\u001b[?25hCollecting thop\n",
            "  Downloading thop-0.1.1.post2209072238-py3-none-any.whl (15 kB)\n",
            "Collecting lap\n",
            "  Downloading lap-0.4.0.tar.gz (1.5 MB)\n",
            "\u001b[K     |████████████████████████████████| 1.5 MB 54.3 MB/s \n",
            "\u001b[?25hCollecting packaging>=20.0\n",
            "  Downloading packaging-22.0-py3-none-any.whl (42 kB)\n",
            "\u001b[K     |████████████████████████████████| 42 kB 1.4 MB/s \n",
            "\u001b[?25hCollecting contourpy>=1.0.1\n",
            "  Downloading contourpy-1.0.6-cp39-cp39-manylinux_2_17_x86_64.manylinux2014_x86_64.whl (296 kB)\n",
            "\u001b[K     |████████████████████████████████| 296 kB 50.7 MB/s \n",
            "\u001b[?25hCollecting kiwisolver>=1.0.1\n",
            "  Downloading kiwisolver-1.4.4-cp39-cp39-manylinux_2_12_x86_64.manylinux2010_x86_64.whl (1.6 MB)\n",
            "\u001b[K     |████████████████████████████████| 1.6 MB 57.9 MB/s \n",
            "\u001b[?25hCollecting python-dateutil>=2.7\n",
            "  Downloading python_dateutil-2.8.2-py2.py3-none-any.whl (247 kB)\n",
            "\u001b[K     |████████████████████████████████| 247 kB 56.3 MB/s \n",
            "\u001b[?25hCollecting cycler>=0.10\n",
            "  Downloading cycler-0.11.0-py3-none-any.whl (6.4 kB)\n",
            "Collecting fonttools>=4.22.0\n",
            "  Downloading fonttools-4.38.0-py3-none-any.whl (965 kB)\n",
            "\u001b[K     |████████████████████████████████| 965 kB 77.1 MB/s \n",
            "\u001b[?25hCollecting pyparsing>=2.2.1\n",
            "  Downloading pyparsing-3.0.9-py3-none-any.whl (98 kB)\n",
            "\u001b[K     |████████████████████████████████| 98 kB 5.2 MB/s \n",
            "\u001b[?25hCollecting google-auth<3,>=1.6.3\n",
            "  Downloading google_auth-2.15.0-py2.py3-none-any.whl (177 kB)\n",
            "\u001b[K     |████████████████████████████████| 177 kB 54.1 MB/s \n",
            "\u001b[?25hCollecting absl-py>=0.4\n",
            "  Downloading absl_py-1.3.0-py3-none-any.whl (124 kB)\n",
            "\u001b[K     |████████████████████████████████| 124 kB 61.6 MB/s \n",
            "\u001b[?25hCollecting grpcio>=1.24.3\n",
            "  Downloading grpcio-1.51.1-cp39-cp39-manylinux_2_17_x86_64.manylinux2014_x86_64.whl (4.8 MB)\n",
            "\u001b[K     |████████████████████████████████| 4.8 MB 74.9 MB/s \n",
            "\u001b[?25hRequirement already satisfied: setuptools>=41.0.0 in /usr/local/lib/python3.9/site-packages (from tb-nightly->-r /content/drive/MyDrive/Colab Notebooks/MGN/Entry_Exit_REID/requirements.txt (line 10)) (61.2.0)\n",
            "Collecting tensorboard-data-server<0.7.0,>=0.6.0\n",
            "  Downloading tensorboard_data_server-0.6.1-py3-none-manylinux2010_x86_64.whl (4.9 MB)\n",
            "\u001b[K     |████████████████████████████████| 4.9 MB 58.9 MB/s \n",
            "\u001b[?25hCollecting google-auth-oauthlib<0.5,>=0.4.1\n",
            "  Downloading google_auth_oauthlib-0.4.6-py2.py3-none-any.whl (18 kB)\n",
            "Collecting werkzeug>=1.0.1\n",
            "  Downloading Werkzeug-2.2.2-py3-none-any.whl (232 kB)\n",
            "\u001b[K     |████████████████████████████████| 232 kB 67.9 MB/s \n",
            "\u001b[?25hCollecting protobuf<4,>=3.9.2\n",
            "  Downloading protobuf-3.20.3-cp39-cp39-manylinux_2_5_x86_64.manylinux1_x86_64.whl (1.0 MB)\n",
            "\u001b[K     |████████████████████████████████| 1.0 MB 67.5 MB/s \n",
            "\u001b[?25hRequirement already satisfied: wheel>=0.26 in /usr/local/lib/python3.9/site-packages (from tb-nightly->-r /content/drive/MyDrive/Colab Notebooks/MGN/Entry_Exit_REID/requirements.txt (line 10)) (0.37.1)\n",
            "Collecting tensorboard-plugin-wit>=1.6.0\n",
            "  Downloading tensorboard_plugin_wit-1.8.1-py3-none-any.whl (781 kB)\n",
            "\u001b[K     |████████████████████████████████| 781 kB 68.9 MB/s \n",
            "\u001b[?25hCollecting markdown>=2.6.8\n",
            "  Downloading Markdown-3.4.1-py3-none-any.whl (93 kB)\n",
            "\u001b[K     |████████████████████████████████| 93 kB 1.7 MB/s \n",
            "\u001b[?25hCollecting beautifulsoup4\n",
            "  Downloading beautifulsoup4-4.11.1-py3-none-any.whl (128 kB)\n",
            "\u001b[K     |████████████████████████████████| 128 kB 57.5 MB/s \n",
            "\u001b[?25hCollecting filelock\n",
            "  Downloading filelock-3.8.2-py3-none-any.whl (10 kB)\n",
            "Collecting mccabe<0.8.0,>=0.7.0\n",
            "  Downloading mccabe-0.7.0-py2.py3-none-any.whl (7.3 kB)\n",
            "Collecting pycodestyle<2.11.0,>=2.10.0\n",
            "  Downloading pycodestyle-2.10.0-py2.py3-none-any.whl (41 kB)\n",
            "\u001b[K     |████████████████████████████████| 41 kB 259 kB/s \n",
            "\u001b[?25hCollecting pyflakes<3.1.0,>=3.0.0\n",
            "  Downloading pyflakes-3.0.1-py2.py3-none-any.whl (62 kB)\n",
            "\u001b[K     |████████████████████████████████| 62 kB 1.3 MB/s \n",
            "\u001b[?25hRequirement already satisfied: charset-normalizer~=2.0.0 in /usr/local/lib/python3.9/site-packages (from requests>=2.23.0->-r /content/drive/MyDrive/Colab Notebooks/MGN/Entry_Exit_REID/requirements.txt (line 35)) (2.0.4)\n",
            "Requirement already satisfied: idna<4,>=2.5 in /usr/local/lib/python3.9/site-packages (from requests>=2.23.0->-r /content/drive/MyDrive/Colab Notebooks/MGN/Entry_Exit_REID/requirements.txt (line 35)) (3.3)\n",
            "Requirement already satisfied: certifi>=2017.4.17 in /usr/local/lib/python3.9/site-packages (from requests>=2.23.0->-r /content/drive/MyDrive/Colab Notebooks/MGN/Entry_Exit_REID/requirements.txt (line 35)) (2022.9.24)\n",
            "Requirement already satisfied: urllib3<1.27,>=1.21.1 in /usr/local/lib/python3.9/site-packages (from requests>=2.23.0->-r /content/drive/MyDrive/Colab Notebooks/MGN/Entry_Exit_REID/requirements.txt (line 35)) (1.26.8)\n",
            "Collecting nvidia-cublas-cu11==11.10.3.66\n",
            "  Downloading nvidia_cublas_cu11-11.10.3.66-py3-none-manylinux1_x86_64.whl (317.1 MB)\n",
            "\u001b[K     |████████████████████████████████| 317.1 MB 30 kB/s \n",
            "\u001b[?25hCollecting nvidia-cudnn-cu11==8.5.0.96\n",
            "  Downloading nvidia_cudnn_cu11-8.5.0.96-2-py3-none-manylinux1_x86_64.whl (557.1 MB)\n",
            "\u001b[K     |████████████████████████████████| 557.1 MB 11 kB/s \n",
            "\u001b[?25hCollecting nvidia-cuda-runtime-cu11==11.7.99\n",
            "  Downloading nvidia_cuda_runtime_cu11-11.7.99-py3-none-manylinux1_x86_64.whl (849 kB)\n",
            "\u001b[K     |████████████████████████████████| 849 kB 77.9 MB/s \n",
            "\u001b[?25hCollecting nvidia-cuda-nvrtc-cu11==11.7.99\n",
            "  Downloading nvidia_cuda_nvrtc_cu11-11.7.99-2-py3-none-manylinux1_x86_64.whl (21.0 MB)\n",
            "\u001b[K     |████████████████████████████████| 21.0 MB 1.2 MB/s \n",
            "\u001b[?25hCollecting typing-extensions\n",
            "  Downloading typing_extensions-4.4.0-py3-none-any.whl (26 kB)\n",
            "Collecting pytz>=2020.1\n",
            "  Downloading pytz-2022.7-py2.py3-none-any.whl (499 kB)\n",
            "\u001b[K     |████████████████████████████████| 499 kB 70.3 MB/s \n",
            "\u001b[?25hCollecting prompt-toolkit<3.1.0,>=3.0.11\n",
            "  Downloading prompt_toolkit-3.0.36-py3-none-any.whl (386 kB)\n",
            "\u001b[K     |████████████████████████████████| 386 kB 65.4 MB/s \n",
            "\u001b[?25hCollecting decorator\n",
            "  Downloading decorator-5.1.1-py3-none-any.whl (9.1 kB)\n",
            "Collecting traitlets>=5\n",
            "  Downloading traitlets-5.7.1-py3-none-any.whl (109 kB)\n",
            "\u001b[K     |████████████████████████████████| 109 kB 75.5 MB/s \n",
            "\u001b[?25hCollecting jedi>=0.16\n",
            "  Downloading jedi-0.18.2-py2.py3-none-any.whl (1.6 MB)\n",
            "\u001b[K     |████████████████████████████████| 1.6 MB 58.1 MB/s \n",
            "\u001b[?25hCollecting backcall\n",
            "  Downloading backcall-0.2.0-py2.py3-none-any.whl (11 kB)\n",
            "Collecting pexpect>4.3\n",
            "  Downloading pexpect-4.8.0-py2.py3-none-any.whl (59 kB)\n",
            "\u001b[K     |████████████████████████████████| 59 kB 6.7 MB/s \n",
            "\u001b[?25hCollecting matplotlib-inline\n",
            "  Downloading matplotlib_inline-0.1.6-py3-none-any.whl (9.4 kB)\n",
            "Collecting stack-data\n",
            "  Downloading stack_data-0.6.2-py3-none-any.whl (24 kB)\n",
            "Collecting pickleshare\n",
            "  Downloading pickleshare-0.7.5-py2.py3-none-any.whl (6.9 kB)\n",
            "Collecting pygments>=2.4.0\n",
            "  Downloading Pygments-2.13.0-py3-none-any.whl (1.1 MB)\n",
            "\u001b[K     |████████████████████████████████| 1.1 MB 56.2 MB/s \n",
            "\u001b[?25hCollecting rsa<5,>=3.1.4\n",
            "  Downloading rsa-4.9-py3-none-any.whl (34 kB)\n",
            "Collecting cachetools<6.0,>=2.0.0\n",
            "  Downloading cachetools-5.2.0-py3-none-any.whl (9.3 kB)\n",
            "Collecting pyasn1-modules>=0.2.1\n",
            "  Downloading pyasn1_modules-0.2.8-py2.py3-none-any.whl (155 kB)\n",
            "\u001b[K     |████████████████████████████████| 155 kB 49.1 MB/s \n",
            "\u001b[?25hCollecting requests-oauthlib>=0.7.0\n",
            "  Downloading requests_oauthlib-1.3.1-py2.py3-none-any.whl (23 kB)\n",
            "Collecting parso<0.9.0,>=0.8.0\n",
            "  Downloading parso-0.8.3-py2.py3-none-any.whl (100 kB)\n",
            "\u001b[K     |████████████████████████████████| 100 kB 10.6 MB/s \n",
            "\u001b[?25hCollecting importlib-metadata>=4.4\n",
            "  Downloading importlib_metadata-5.1.0-py3-none-any.whl (21 kB)\n",
            "Collecting zipp>=0.5\n",
            "  Downloading zipp-3.11.0-py3-none-any.whl (6.6 kB)\n",
            "Collecting ptyprocess>=0.5\n",
            "  Downloading ptyprocess-0.7.0-py2.py3-none-any.whl (13 kB)\n",
            "Collecting wcwidth\n",
            "  Downloading wcwidth-0.2.5-py2.py3-none-any.whl (30 kB)\n",
            "Collecting pyasn1<0.5.0,>=0.4.6\n",
            "  Downloading pyasn1-0.4.8-py2.py3-none-any.whl (77 kB)\n",
            "\u001b[K     |████████████████████████████████| 77 kB 4.3 MB/s \n",
            "\u001b[?25hCollecting oauthlib>=3.0.0\n",
            "  Downloading oauthlib-3.2.2-py3-none-any.whl (151 kB)\n",
            "\u001b[K     |████████████████████████████████| 151 kB 82.1 MB/s \n",
            "\u001b[?25hCollecting MarkupSafe>=2.1.1\n",
            "  Downloading MarkupSafe-2.1.1-cp39-cp39-manylinux_2_17_x86_64.manylinux2014_x86_64.whl (25 kB)\n",
            "Collecting soupsieve>1.2\n",
            "  Downloading soupsieve-2.3.2.post1-py3-none-any.whl (37 kB)\n",
            "Requirement already satisfied: PySocks!=1.5.7,>=1.5.6 in /usr/local/lib/python3.9/site-packages (from requests>=2.23.0->-r /content/drive/MyDrive/Colab Notebooks/MGN/Entry_Exit_REID/requirements.txt (line 35)) (1.7.1)\n",
            "Collecting asttokens>=2.1.0\n",
            "  Downloading asttokens-2.2.1-py2.py3-none-any.whl (26 kB)\n",
            "Collecting executing>=1.2.0\n",
            "  Downloading executing-1.2.0-py2.py3-none-any.whl (24 kB)\n",
            "Collecting pure-eval\n",
            "  Downloading pure_eval-0.2.2-py3-none-any.whl (11 kB)\n",
            "Building wheels for collected packages: future, lap\n",
            "  Building wheel for future (setup.py) ... \u001b[?25l\u001b[?25hdone\n",
            "  Created wheel for future: filename=future-0.18.2-py3-none-any.whl size=491070 sha256=1a1683a49999e62ed8e71831034dba45a39a0ac5d484219a0a18e29b78661339\n",
            "  Stored in directory: /root/.cache/pip/wheels/2f/a0/d3/4030d9f80e6b3be787f19fc911b8e7aa462986a40ab1e4bb94\n",
            "  Building wheel for lap (setup.py) ... \u001b[?25lerror\n",
            "\u001b[31m  ERROR: Failed building wheel for lap\u001b[0m\n",
            "\u001b[?25h  Running setup.py clean for lap\n",
            "Successfully built future\n",
            "Failed to build lap\n",
            "Installing collected packages: pyasn1, zipp, rsa, pyasn1-modules, oauthlib, nvidia-cublas-cu11, numpy, cachetools, wcwidth, typing-extensions, traitlets, soupsieve, requests-oauthlib, pytz, python-dateutil, pyparsing, pure-eval, ptyprocess, Pillow, parso, packaging, nvidia-cudnn-cu11, nvidia-cuda-runtime-cu11, nvidia-cuda-nvrtc-cu11, MarkupSafe, kiwisolver, importlib-metadata, google-auth, fonttools, executing, cycler, contourpy, asttokens, werkzeug, torch, tensorboard-plugin-wit, tensorboard-data-server, stack-data, PyYAML, pygments, pyflakes, pycodestyle, protobuf, prompt-toolkit, pickleshare, pexpect, pandas, mccabe, matplotlib-inline, matplotlib, markdown, jedi, grpcio, google-auth-oauthlib, filelock, decorator, beautifulsoup4, backcall, absl-py, yapf, yacs, torchvision, thop, tensorboard, tb-nightly, seaborn, scipy, psutil, opencv-python, lap, isort, ipython, imageio, h5py, gdown, future, flake8, Cython\n",
            "    Running setup.py install for lap ... \u001b[?25l\u001b[?25hdone\n",
            "\u001b[33m  DEPRECATION: lap was installed using the legacy 'setup.py install' method, because a wheel could not be built for it. A possible replacement is to fix the wheel build issue reported above. You can find discussion regarding this at https://github.com/pypa/pip/issues/8368.\u001b[0m\n",
            "Successfully installed Cython-0.29.32 MarkupSafe-2.1.1 Pillow-9.3.0 PyYAML-6.0 absl-py-1.3.0 asttokens-2.2.1 backcall-0.2.0 beautifulsoup4-4.11.1 cachetools-5.2.0 contourpy-1.0.6 cycler-0.11.0 decorator-5.1.1 executing-1.2.0 filelock-3.8.2 flake8-6.0.0 fonttools-4.38.0 future-0.18.2 gdown-4.6.0 google-auth-2.15.0 google-auth-oauthlib-0.4.6 grpcio-1.51.1 h5py-3.7.0 imageio-2.22.4 importlib-metadata-5.1.0 ipython-8.7.0 isort-4.3.21 jedi-0.18.2 kiwisolver-1.4.4 lap-0.4.0 markdown-3.4.1 matplotlib-3.6.2 matplotlib-inline-0.1.6 mccabe-0.7.0 numpy-1.23.5 nvidia-cublas-cu11-11.10.3.66 nvidia-cuda-nvrtc-cu11-11.7.99 nvidia-cuda-runtime-cu11-11.7.99 nvidia-cudnn-cu11-8.5.0.96 oauthlib-3.2.2 opencv-python-4.6.0.66 packaging-22.0 pandas-1.5.2 parso-0.8.3 pexpect-4.8.0 pickleshare-0.7.5 prompt-toolkit-3.0.36 protobuf-3.20.3 psutil-5.9.4 ptyprocess-0.7.0 pure-eval-0.2.2 pyasn1-0.4.8 pyasn1-modules-0.2.8 pycodestyle-2.10.0 pyflakes-3.0.1 pygments-2.13.0 pyparsing-3.0.9 python-dateutil-2.8.2 pytz-2022.7 requests-oauthlib-1.3.1 rsa-4.9 scipy-1.9.3 seaborn-0.12.1 soupsieve-2.3.2.post1 stack-data-0.6.2 tb-nightly-2.12.0a20221217 tensorboard-2.11.0 tensorboard-data-server-0.6.1 tensorboard-plugin-wit-1.8.1 thop-0.1.1.post2209072238 torch-1.13.1 torchvision-0.14.1 traitlets-5.7.1 typing-extensions-4.4.0 wcwidth-0.2.5 werkzeug-2.2.2 yacs-0.1.8 yapf-0.32.0 zipp-3.11.0\n",
            "\u001b[33mWARNING: Running pip as the 'root' user can result in broken permissions and conflicting behaviour with the system package manager. It is recommended to use a virtual environment instead: https://pip.pypa.io/warnings/venv\u001b[0m\n"
          ]
        },
        {
          "output_type": "display_data",
          "data": {
            "application/vnd.colab-display-data+json": {
              "pip_warning": {
                "packages": [
                  "cycler",
                  "dateutil",
                  "google",
                  "kiwisolver",
                  "pexpect",
                  "pickleshare",
                  "wcwidth"
                ]
              }
            }
          },
          "metadata": {}
        },
        {
          "output_type": "stream",
          "name": "stdout",
          "text": [
            "Looking in indexes: https://pypi.org/simple, https://us-python.pkg.dev/colab-wheels/public/simple/\n",
            "Requirement already satisfied: cython in /usr/local/lib/python3.9/site-packages (0.29.32)\n",
            "\u001b[33mWARNING: Running pip as the 'root' user can result in broken permissions and conflicting behaviour with the system package manager. It is recommended to use a virtual environment instead: https://pip.pypa.io/warnings/venv\u001b[0m\n",
            "Looking in indexes: https://pypi.org/simple, https://us-python.pkg.dev/colab-wheels/public/simple/\n",
            "Collecting cython_bbox\n",
            "  Downloading cython_bbox-0.1.3.tar.gz (41 kB)\n",
            "\u001b[K     |████████████████████████████████| 41 kB 12 kB/s \n",
            "\u001b[?25hBuilding wheels for collected packages: cython-bbox\n",
            "  Building wheel for cython-bbox (setup.py) ... \u001b[?25l\u001b[?25hdone\n",
            "  Created wheel for cython-bbox: filename=cython_bbox-0.1.3-cp39-cp39-linux_x86_64.whl size=19656 sha256=9801b7572707fe62d87bf7494006716cc881753a858baf17472afe318b1fa1a2\n",
            "  Stored in directory: /root/.cache/pip/wheels/a6/a9/bc/51e2033272699c7879a142c483d1ef74291b1f3185f450f480\n",
            "Successfully built cython-bbox\n",
            "Installing collected packages: cython-bbox\n",
            "Successfully installed cython-bbox-0.1.3\n",
            "\u001b[33mWARNING: Running pip as the 'root' user can result in broken permissions and conflicting behaviour with the system package manager. It is recommended to use a virtual environment instead: https://pip.pypa.io/warnings/venv\u001b[0m\n",
            "\u001b[33mWARNING: Running pip as the 'root' user can result in broken permissions and conflicting behaviour with the system package manager. It is recommended to use a virtual environment instead: https://pip.pypa.io/warnings/venv\u001b[0m\n"
          ]
        }
      ]
    },
    {
      "cell_type": "code",
      "source": [
        "# !nvcc --version\n",
        "import torch\n",
        "torch.cuda.is_available()"
      ],
      "metadata": {
        "colab": {
          "base_uri": "https://localhost:8080/"
        },
        "id": "1ux00Ii_h0zj",
        "outputId": "4a02a988-cc72-4254-b205-e02b252fa72d"
      },
      "execution_count": 12,
      "outputs": [
        {
          "output_type": "execute_result",
          "data": {
            "text/plain": [
              "False"
            ]
          },
          "metadata": {},
          "execution_count": 12
        }
      ]
    },
    {
      "cell_type": "code",
      "source": [
        "%cd \"deep-person-reid\"\n",
        "!python setup.py develop\n",
        "%cd .."
      ],
      "metadata": {
        "colab": {
          "base_uri": "https://localhost:8080/"
        },
        "id": "ZU8wDD7rfjlU",
        "outputId": "9fb0b9c0-8d35-4bfd-b654-a79c3f14fc09"
      },
      "execution_count": 13,
      "outputs": [
        {
          "output_type": "stream",
          "name": "stdout",
          "text": [
            "/content/drive/MyDrive/Colab Notebooks/MGN/Entry_Exit_REID/deep-person-reid\n",
            "['.deep-person-reid/torchreid', '/content/drive/MyDrive/Colab Notebooks/MGN/Entry_Exit_REID/deep-person-reid', '/env/python', '/usr/local/lib/python39.zip', '/usr/local/lib/python3.9', '/usr/local/lib/python3.9/lib-dynload', '/usr/local/lib/python3.9/site-packages', '.']\n",
            "Compiling torchreid/metrics/rank_cylib/rank_cy.pyx because it depends on /usr/local/lib/python3.9/site-packages/Cython/Includes/libc/string.pxd.\n",
            "[1/1] Cythonizing torchreid/metrics/rank_cylib/rank_cy.pyx\n",
            "/usr/local/lib/python3.9/site-packages/Cython/Compiler/Main.py:369: FutureWarning: Cython directive 'language_level' not set, using 2 for now (Py2). This will change in a later release! File: /content/drive/MyDrive/Colab Notebooks/MGN/Entry_Exit_REID/deep-person-reid/torchreid/metrics/rank_cylib/rank_cy.pyx\n",
            "  tree = Parsing.p_module(s, pxd, full_module_name)\n",
            "running develop\n",
            "/usr/local/lib/python3.9/site-packages/setuptools/command/easy_install.py:144: EasyInstallDeprecationWarning: easy_install command is deprecated. Use build and pip and other standards-based tools.\n",
            "  warnings.warn(\n",
            "/usr/local/lib/python3.9/site-packages/setuptools/command/install.py:34: SetuptoolsDeprecationWarning: setup.py install is deprecated. Use build and pip and other standards-based tools.\n",
            "  warnings.warn(\n",
            "running egg_info\n",
            "writing torchreid.egg-info/PKG-INFO\n",
            "writing dependency_links to torchreid.egg-info/dependency_links.txt\n",
            "writing requirements to torchreid.egg-info/requires.txt\n",
            "writing top-level names to torchreid.egg-info/top_level.txt\n",
            "reading manifest file 'torchreid.egg-info/SOURCES.txt'\n",
            "adding license file 'LICENSE'\n",
            "writing manifest file 'torchreid.egg-info/SOURCES.txt'\n",
            "running build_ext\n",
            "building 'torchreid.metrics.rank_cylib.rank_cy' extension\n",
            "gcc -pthread -B /usr/local/compiler_compat -Wno-unused-result -Wsign-compare -DNDEBUG -O2 -Wall -fPIC -O2 -isystem /usr/local/include -I/usr/local/include -fPIC -O2 -isystem /usr/local/include -fPIC -I/usr/local/lib/python3.9/site-packages/numpy/core/include -I/usr/local/include/python3.9 -c torchreid/metrics/rank_cylib/rank_cy.c -o build/temp.linux-x86_64-3.9/torchreid/metrics/rank_cylib/rank_cy.o\n",
            "In file included from \u001b[01m\u001b[K/usr/local/lib/python3.9/site-packages/numpy/core/include/numpy/ndarraytypes.h:1948:0\u001b[m\u001b[K,\n",
            "                 from \u001b[01m\u001b[K/usr/local/lib/python3.9/site-packages/numpy/core/include/numpy/ndarrayobject.h:12\u001b[m\u001b[K,\n",
            "                 from \u001b[01m\u001b[K/usr/local/lib/python3.9/site-packages/numpy/core/include/numpy/arrayobject.h:5\u001b[m\u001b[K,\n",
            "                 from \u001b[01m\u001b[Ktorchreid/metrics/rank_cylib/rank_cy.c:769\u001b[m\u001b[K:\n",
            "\u001b[01m\u001b[K/usr/local/lib/python3.9/site-packages/numpy/core/include/numpy/npy_1_7_deprecated_api.h:17:2:\u001b[m\u001b[K \u001b[01;35m\u001b[Kwarning: \u001b[m\u001b[K#warning \"Using deprecated NumPy API, disable it with \" \"#define NPY_NO_DEPRECATED_API NPY_1_7_API_VERSION\" [\u001b[01;35m\u001b[K-Wcpp\u001b[m\u001b[K]\n",
            " #\u001b[01;35m\u001b[Kwarning\u001b[m\u001b[K \"Using deprecated NumPy API, disable it with \" \\\n",
            "  \u001b[01;35m\u001b[K^~~~~~~\u001b[m\u001b[K\n",
            "gcc -pthread -B /usr/local/compiler_compat -shared -Wl,-rpath,/usr/local/lib -Wl,-rpath-link,/usr/local/lib -L/usr/local/lib -L/usr/local/lib -Wl,-rpath,/usr/local/lib -Wl,-rpath-link,/usr/local/lib -L/usr/local/lib build/temp.linux-x86_64-3.9/torchreid/metrics/rank_cylib/rank_cy.o -o build/lib.linux-x86_64-3.9/torchreid/metrics/rank_cylib/rank_cy.cpython-39-x86_64-linux-gnu.so\n",
            "copying build/lib.linux-x86_64-3.9/torchreid/metrics/rank_cylib/rank_cy.cpython-39-x86_64-linux-gnu.so -> torchreid/metrics/rank_cylib\n",
            "Creating /usr/local/lib/python3.9/site-packages/torchreid.egg-link (link to .)\n",
            "Adding torchreid 1.4.0 to easy-install.pth file\n",
            "\n",
            "Installed /content/drive/MyDrive/Colab Notebooks/MGN/Entry_Exit_REID/deep-person-reid\n",
            "Processing dependencies for torchreid==1.4.0\n",
            "Searching for imageio==2.22.4\n",
            "Best match: imageio 2.22.4\n",
            "Adding imageio 2.22.4 to easy-install.pth file\n",
            "Installing imageio_download_bin script to /usr/local/bin\n",
            "Installing imageio_remove_bin script to /usr/local/bin\n",
            "\n",
            "Using /usr/local/lib/python3.9/site-packages\n",
            "Searching for isort==4.3.21\n",
            "Best match: isort 4.3.21\n",
            "Adding isort 4.3.21 to easy-install.pth file\n",
            "Installing isort script to /usr/local/bin\n",
            "\n",
            "Using /usr/local/lib/python3.9/site-packages\n",
            "Searching for yapf==0.32.0\n",
            "Best match: yapf 0.32.0\n",
            "Adding yapf 0.32.0 to easy-install.pth file\n",
            "Installing yapf script to /usr/local/bin\n",
            "Installing yapf-diff script to /usr/local/bin\n",
            "\n",
            "Using /usr/local/lib/python3.9/site-packages\n",
            "Searching for flake8==6.0.0\n",
            "Best match: flake8 6.0.0\n",
            "Adding flake8 6.0.0 to easy-install.pth file\n",
            "Installing flake8 script to /usr/local/bin\n",
            "\n",
            "Using /usr/local/lib/python3.9/site-packages\n",
            "Searching for gdown==4.6.0\n",
            "Best match: gdown 4.6.0\n",
            "Adding gdown 4.6.0 to easy-install.pth file\n",
            "Installing gdown script to /usr/local/bin\n",
            "\n",
            "Using /usr/local/lib/python3.9/site-packages\n",
            "Searching for yacs==0.1.8\n",
            "Best match: yacs 0.1.8\n",
            "Adding yacs 0.1.8 to easy-install.pth file\n",
            "\n",
            "Using /usr/local/lib/python3.9/site-packages\n",
            "Searching for future==0.18.2\n",
            "Best match: future 0.18.2\n",
            "Adding future 0.18.2 to easy-install.pth file\n",
            "Installing futurize script to /usr/local/bin\n",
            "Installing pasteurize script to /usr/local/bin\n",
            "\n",
            "Using /usr/local/lib/python3.9/site-packages\n",
            "Searching for tb-nightly==2.12.0a20221217\n",
            "Best match: tb-nightly 2.12.0a20221217\n",
            "Adding tb-nightly 2.12.0a20221217 to easy-install.pth file\n",
            "Installing tensorboard script to /usr/local/bin\n",
            "\n",
            "Using /usr/local/lib/python3.9/site-packages\n",
            "Searching for matplotlib==3.6.2\n",
            "Best match: matplotlib 3.6.2\n",
            "Adding matplotlib 3.6.2 to easy-install.pth file\n",
            "\n",
            "Using /usr/local/lib/python3.9/site-packages\n",
            "Searching for opencv-python==4.6.0.66\n",
            "Best match: opencv-python 4.6.0.66\n",
            "Adding opencv-python 4.6.0.66 to easy-install.pth file\n",
            "\n",
            "Using /usr/local/lib/python3.9/site-packages\n",
            "Searching for scipy==1.9.3\n",
            "Best match: scipy 1.9.3\n",
            "Adding scipy 1.9.3 to easy-install.pth file\n",
            "\n",
            "Using /usr/local/lib/python3.9/site-packages\n",
            "Searching for six==1.16.0\n",
            "Best match: six 1.16.0\n",
            "Adding six 1.16.0 to easy-install.pth file\n",
            "\n",
            "Using /usr/local/lib/python3.9/site-packages\n",
            "Searching for Pillow==9.3.0\n",
            "Best match: Pillow 9.3.0\n",
            "Adding Pillow 9.3.0 to easy-install.pth file\n",
            "\n",
            "Using /usr/local/lib/python3.9/site-packages\n",
            "Searching for h5py==3.7.0\n",
            "Best match: h5py 3.7.0\n",
            "Adding h5py 3.7.0 to easy-install.pth file\n",
            "\n",
            "Using /usr/local/lib/python3.9/site-packages\n",
            "Searching for Cython==0.29.32\n",
            "Best match: Cython 0.29.32\n",
            "Adding Cython 0.29.32 to easy-install.pth file\n",
            "Installing cygdb script to /usr/local/bin\n",
            "Installing cython script to /usr/local/bin\n",
            "Installing cythonize script to /usr/local/bin\n",
            "\n",
            "Using /usr/local/lib/python3.9/site-packages\n",
            "Searching for numpy==1.23.5\n",
            "Best match: numpy 1.23.5\n",
            "Adding numpy 1.23.5 to easy-install.pth file\n",
            "Installing f2py script to /usr/local/bin\n",
            "Installing f2py3 script to /usr/local/bin\n",
            "Installing f2py3.9 script to /usr/local/bin\n",
            "\n",
            "Using /usr/local/lib/python3.9/site-packages\n",
            "Searching for pyflakes==3.0.1\n",
            "Best match: pyflakes 3.0.1\n",
            "Adding pyflakes 3.0.1 to easy-install.pth file\n",
            "Installing pyflakes script to /usr/local/bin\n",
            "\n",
            "Using /usr/local/lib/python3.9/site-packages\n",
            "Searching for pycodestyle==2.10.0\n",
            "Best match: pycodestyle 2.10.0\n",
            "Adding pycodestyle 2.10.0 to easy-install.pth file\n",
            "Installing pycodestyle script to /usr/local/bin\n",
            "\n",
            "Using /usr/local/lib/python3.9/site-packages\n",
            "Searching for mccabe==0.7.0\n",
            "Best match: mccabe 0.7.0\n",
            "Adding mccabe 0.7.0 to easy-install.pth file\n",
            "\n",
            "Using /usr/local/lib/python3.9/site-packages\n",
            "Searching for beautifulsoup4==4.11.1\n",
            "Best match: beautifulsoup4 4.11.1\n",
            "Adding beautifulsoup4 4.11.1 to easy-install.pth file\n",
            "\n",
            "Using /usr/local/lib/python3.9/site-packages\n",
            "Searching for tqdm==4.63.0\n",
            "Best match: tqdm 4.63.0\n",
            "Adding tqdm 4.63.0 to easy-install.pth file\n",
            "Installing tqdm script to /usr/local/bin\n",
            "\n",
            "Using /usr/local/lib/python3.9/site-packages\n",
            "Searching for requests==2.27.1\n",
            "Best match: requests 2.27.1\n",
            "Adding requests 2.27.1 to easy-install.pth file\n",
            "\n",
            "Using /usr/local/lib/python3.9/site-packages\n",
            "Searching for filelock==3.8.2\n",
            "Best match: filelock 3.8.2\n",
            "Adding filelock 3.8.2 to easy-install.pth file\n",
            "\n",
            "Using /usr/local/lib/python3.9/site-packages\n",
            "Searching for PyYAML==6.0\n",
            "Best match: PyYAML 6.0\n",
            "Adding PyYAML 6.0 to easy-install.pth file\n",
            "\n",
            "Using /usr/local/lib/python3.9/site-packages\n",
            "Searching for wheel==0.37.1\n",
            "Best match: wheel 0.37.1\n",
            "Adding wheel 0.37.1 to easy-install.pth file\n",
            "Installing wheel script to /usr/local/bin\n",
            "\n",
            "Using /usr/local/lib/python3.9/site-packages\n",
            "Searching for Werkzeug==2.2.2\n",
            "Best match: Werkzeug 2.2.2\n",
            "Adding Werkzeug 2.2.2 to easy-install.pth file\n",
            "\n",
            "Using /usr/local/lib/python3.9/site-packages\n",
            "Searching for tensorboard-plugin-wit==1.8.1\n",
            "Best match: tensorboard-plugin-wit 1.8.1\n",
            "Adding tensorboard-plugin-wit 1.8.1 to easy-install.pth file\n",
            "\n",
            "Using /usr/local/lib/python3.9/site-packages\n",
            "Searching for tensorboard-data-server==0.6.1\n",
            "Best match: tensorboard-data-server 0.6.1\n",
            "Adding tensorboard-data-server 0.6.1 to easy-install.pth file\n",
            "\n",
            "Using /usr/local/lib/python3.9/site-packages\n",
            "Searching for setuptools==61.2.0\n",
            "Best match: setuptools 61.2.0\n",
            "Adding setuptools 61.2.0 to easy-install.pth file\n",
            "\n",
            "Using /usr/local/lib/python3.9/site-packages\n",
            "Searching for protobuf==3.20.3\n",
            "Best match: protobuf 3.20.3\n",
            "Adding protobuf 3.20.3 to easy-install.pth file\n",
            "\n",
            "Using /usr/local/lib/python3.9/site-packages\n",
            "Searching for Markdown==3.4.1\n",
            "Best match: Markdown 3.4.1\n",
            "Adding Markdown 3.4.1 to easy-install.pth file\n",
            "Installing markdown_py script to /usr/local/bin\n",
            "\n",
            "Using /usr/local/lib/python3.9/site-packages\n",
            "Searching for google-auth-oauthlib==0.4.6\n",
            "Best match: google-auth-oauthlib 0.4.6\n",
            "Adding google-auth-oauthlib 0.4.6 to easy-install.pth file\n",
            "Installing google-oauthlib-tool script to /usr/local/bin\n",
            "\n",
            "Using /usr/local/lib/python3.9/site-packages\n",
            "Searching for google-auth==2.15.0\n",
            "Best match: google-auth 2.15.0\n",
            "Adding google-auth 2.15.0 to easy-install.pth file\n",
            "\n",
            "Using /usr/local/lib/python3.9/site-packages\n",
            "Searching for grpcio==1.51.1\n",
            "Best match: grpcio 1.51.1\n",
            "Adding grpcio 1.51.1 to easy-install.pth file\n",
            "\n",
            "Using /usr/local/lib/python3.9/site-packages\n",
            "Searching for absl-py==1.3.0\n",
            "Best match: absl-py 1.3.0\n",
            "Adding absl-py 1.3.0 to easy-install.pth file\n",
            "\n",
            "Using /usr/local/lib/python3.9/site-packages\n",
            "Searching for python-dateutil==2.8.2\n",
            "Best match: python-dateutil 2.8.2\n",
            "Adding python-dateutil 2.8.2 to easy-install.pth file\n",
            "\n",
            "Using /usr/local/lib/python3.9/site-packages\n",
            "Searching for pyparsing==3.0.9\n",
            "Best match: pyparsing 3.0.9\n",
            "Adding pyparsing 3.0.9 to easy-install.pth file\n",
            "\n",
            "Using /usr/local/lib/python3.9/site-packages\n",
            "Searching for packaging==22.0\n",
            "Best match: packaging 22.0\n",
            "Adding packaging 22.0 to easy-install.pth file\n",
            "\n",
            "Using /usr/local/lib/python3.9/site-packages\n",
            "Searching for kiwisolver==1.4.4\n",
            "Best match: kiwisolver 1.4.4\n",
            "Adding kiwisolver 1.4.4 to easy-install.pth file\n",
            "\n",
            "Using /usr/local/lib/python3.9/site-packages\n",
            "Searching for fonttools==4.38.0\n",
            "Best match: fonttools 4.38.0\n",
            "Adding fonttools 4.38.0 to easy-install.pth file\n",
            "Installing fonttools script to /usr/local/bin\n",
            "Installing pyftmerge script to /usr/local/bin\n",
            "Installing pyftsubset script to /usr/local/bin\n",
            "Installing ttx script to /usr/local/bin\n",
            "\n",
            "Using /usr/local/lib/python3.9/site-packages\n",
            "Searching for cycler==0.11.0\n",
            "Best match: cycler 0.11.0\n",
            "Adding cycler 0.11.0 to easy-install.pth file\n",
            "\n",
            "Using /usr/local/lib/python3.9/site-packages\n",
            "Searching for contourpy==1.0.6\n",
            "Best match: contourpy 1.0.6\n",
            "Adding contourpy 1.0.6 to easy-install.pth file\n",
            "\n",
            "Using /usr/local/lib/python3.9/site-packages\n",
            "Searching for soupsieve==2.3.2.post1\n",
            "Best match: soupsieve 2.3.2.post1\n",
            "Adding soupsieve 2.3.2.post1 to easy-install.pth file\n",
            "\n",
            "Using /usr/local/lib/python3.9/site-packages\n",
            "Searching for PySocks==1.7.1\n",
            "Best match: PySocks 1.7.1\n",
            "Adding PySocks 1.7.1 to easy-install.pth file\n",
            "\n",
            "Using /usr/local/lib/python3.9/site-packages\n",
            "Searching for idna==3.3\n",
            "Best match: idna 3.3\n",
            "Adding idna 3.3 to easy-install.pth file\n",
            "\n",
            "Using /usr/local/lib/python3.9/site-packages\n",
            "Searching for charset-normalizer==2.0.4\n",
            "Best match: charset-normalizer 2.0.4\n",
            "Adding charset-normalizer 2.0.4 to easy-install.pth file\n",
            "Installing normalizer script to /usr/local/bin\n",
            "\n",
            "Using /usr/local/lib/python3.9/site-packages\n",
            "Searching for certifi==2022.9.24\n",
            "Best match: certifi 2022.9.24\n",
            "Adding certifi 2022.9.24 to easy-install.pth file\n",
            "\n",
            "Using /usr/local/lib/python3.9/site-packages\n",
            "Searching for urllib3==1.26.8\n",
            "Best match: urllib3 1.26.8\n",
            "Adding urllib3 1.26.8 to easy-install.pth file\n",
            "\n",
            "Using /usr/local/lib/python3.9/site-packages\n",
            "Searching for MarkupSafe==2.1.1\n",
            "Best match: MarkupSafe 2.1.1\n",
            "Adding MarkupSafe 2.1.1 to easy-install.pth file\n",
            "\n",
            "Using /usr/local/lib/python3.9/site-packages\n",
            "Searching for importlib-metadata==5.1.0\n",
            "Best match: importlib-metadata 5.1.0\n",
            "Adding importlib-metadata 5.1.0 to easy-install.pth file\n",
            "\n",
            "Using /usr/local/lib/python3.9/site-packages\n",
            "Searching for requests-oauthlib==1.3.1\n",
            "Best match: requests-oauthlib 1.3.1\n",
            "Adding requests-oauthlib 1.3.1 to easy-install.pth file\n",
            "\n",
            "Using /usr/local/lib/python3.9/site-packages\n",
            "Searching for rsa==4.9\n",
            "Best match: rsa 4.9\n",
            "Adding rsa 4.9 to easy-install.pth file\n",
            "Installing pyrsa-decrypt script to /usr/local/bin\n",
            "Installing pyrsa-encrypt script to /usr/local/bin\n",
            "Installing pyrsa-keygen script to /usr/local/bin\n",
            "Installing pyrsa-priv2pub script to /usr/local/bin\n",
            "Installing pyrsa-sign script to /usr/local/bin\n",
            "Installing pyrsa-verify script to /usr/local/bin\n",
            "\n",
            "Using /usr/local/lib/python3.9/site-packages\n",
            "Searching for pyasn1-modules==0.2.8\n",
            "Best match: pyasn1-modules 0.2.8\n",
            "Adding pyasn1-modules 0.2.8 to easy-install.pth file\n",
            "\n",
            "Using /usr/local/lib/python3.9/site-packages\n",
            "Searching for cachetools==5.2.0\n",
            "Best match: cachetools 5.2.0\n",
            "Adding cachetools 5.2.0 to easy-install.pth file\n",
            "\n",
            "Using /usr/local/lib/python3.9/site-packages\n",
            "Searching for zipp==3.11.0\n",
            "Best match: zipp 3.11.0\n",
            "Adding zipp 3.11.0 to easy-install.pth file\n",
            "\n",
            "Using /usr/local/lib/python3.9/site-packages\n",
            "Searching for oauthlib==3.2.2\n",
            "Best match: oauthlib 3.2.2\n",
            "Adding oauthlib 3.2.2 to easy-install.pth file\n",
            "\n",
            "Using /usr/local/lib/python3.9/site-packages\n",
            "Searching for pyasn1==0.4.8\n",
            "Best match: pyasn1 0.4.8\n",
            "Adding pyasn1 0.4.8 to easy-install.pth file\n",
            "\n",
            "Using /usr/local/lib/python3.9/site-packages\n",
            "Finished processing dependencies for torchreid==1.4.0\n",
            "/content/drive/MyDrive/Colab Notebooks/MGN/Entry_Exit_REID\n"
          ]
        }
      ]
    },
    {
      "cell_type": "code",
      "source": [
        "# Test modul torchreid\n",
        "# %cd \"Entry_Exit_REID\"\n",
        "!python \"test/test_modul.py\""
      ],
      "metadata": {
        "colab": {
          "base_uri": "https://localhost:8080/"
        },
        "id": "rodhCNf4ZxQD",
        "outputId": "43783829-8f27-4021-ea88-0572ee2fc2b2"
      },
      "execution_count": null,
      "outputs": [
        {
          "output_type": "stream",
          "name": "stdout",
          "text": [
            "Modul berhasil diload\n"
          ]
        }
      ]
    },
    {
      "cell_type": "markdown",
      "source": [],
      "metadata": {
        "id": "B_WiCW2MRJS8"
      }
    },
    {
      "cell_type": "markdown",
      "source": [
        "# Download Model and Testing Video"
      ],
      "metadata": {
        "id": "KoXh07Mxb-Lb"
      }
    },
    {
      "cell_type": "code",
      "source": [
        "# !pip install gdown"
      ],
      "metadata": {
        "id": "sGHlpjhke8F4"
      },
      "execution_count": null,
      "outputs": []
    },
    {
      "cell_type": "code",
      "source": [
        "!ls\n",
        "!mkdir \"models\"\n",
        "%cd models\n",
        "\n",
        "# # Download model terbaik yang sudah ditraining\n",
        "!gdown 1v2EYQeIdZW5OZT2eejzNmqDTdJSDlbsv # model yolo\n",
        "!gdown 18GRAgOM2nD8wQKXOJo_Gga3k7FQ6ami_ # model ONET\n",
        "\n",
        "!ls\n",
        "%cd ..\n",
        "!ls"
      ],
      "metadata": {
        "id": "wVxKqyLBctxx",
        "colab": {
          "base_uri": "https://localhost:8080/"
        },
        "outputId": "67c040dc-c06b-449a-9853-eeac5359b675"
      },
      "execution_count": null,
      "outputs": [
        {
          "output_type": "stream",
          "name": "stdout",
          "text": [
            "configs\t\t       id_assigner\t\t\t      test     yolov7\n",
            "deep-person-reid       Miniconda3-py37_4.8.2-Linux-x86_64.sh  tools\n",
            "Entry_Exit_REID.ipynb  requirements.txt\t\t\t      tracker\n",
            "/content/drive/MyDrive/Colab Notebooks/MGN/Entry_Exit_REID/models\n",
            "Downloading...\n",
            "From: https://drive.google.com/uc?id=1v2EYQeIdZW5OZT2eejzNmqDTdJSDlbsv\n",
            "To: /content/drive/MyDrive/Colab Notebooks/MGN/Entry_Exit_REID/models/best_yolov7.pt\n",
            "100% 74.8M/74.8M [00:01<00:00, 73.3MB/s]\n",
            "Downloading...\n",
            "From: https://drive.google.com/uc?id=18GRAgOM2nD8wQKXOJo_Gga3k7FQ6ami_\n",
            "To: /content/drive/MyDrive/Colab Notebooks/MGN/Entry_Exit_REID/models/model.pth.tar-60\n",
            "100% 31.2M/31.2M [00:00<00:00, 53.1MB/s]\n"
          ]
        }
      ]
    },
    {
      "cell_type": "code",
      "source": [
        "# !ls\n",
        "# !mkdir \"test\"\n",
        "# %cd test\n",
        "\n",
        "# # # Download testing video\n",
        "# !gdown 1v2EYQeIdZW5OZT2eejzNmqDTdJSDlbsv # model yolo\n",
        "# !gdown 18GRAgOM2nD8wQKXOJo_Gga3k7FQ6ami_ # model ONET\n",
        "\n",
        "# !ls\n",
        "# %cd ..\n",
        "# !ls"
      ],
      "metadata": {
        "id": "rMbhqlyVXEXH",
        "colab": {
          "base_uri": "https://localhost:8080/"
        },
        "outputId": "1e600e3b-c760-4043-a9a9-e100d1d161ca"
      },
      "execution_count": null,
      "outputs": [
        {
          "output_type": "stream",
          "name": "stdout",
          "text": [
            "best_yolov7.pt\tmodel.pth.tar-60\n",
            "/content/drive/MyDrive/Colab Notebooks/MGN/Entry_Exit_REID\n",
            "configs\t\t       Miniconda3-py37_4.8.2-Linux-x86_64.sh  tools\n",
            "deep-person-reid       models\t\t\t\t      tracker\n",
            "Entry_Exit_REID.ipynb  requirements.txt\t\t\t      yolov7\n",
            "id_assigner\t       test\n"
          ]
        }
      ]
    },
    {
      "cell_type": "code",
      "source": [
        "print(\"hoho\")"
      ],
      "metadata": {
        "colab": {
          "base_uri": "https://localhost:8080/"
        },
        "id": "gB5wq2LcHhKR",
        "outputId": "addadf47-f2b2-4009-e8f3-7419a4e7ec47"
      },
      "execution_count": null,
      "outputs": [
        {
          "output_type": "stream",
          "name": "stdout",
          "text": [
            "hoho\n"
          ]
        }
      ]
    },
    {
      "cell_type": "markdown",
      "source": [
        "# Dev"
      ],
      "metadata": {
        "id": "uPYgoSkxwA21"
      }
    },
    {
      "cell_type": "code",
      "source": [
        "!ls\n",
        "# detector_model = \"./models/yolov7-tiny.pt\"\n",
        "# !python \"tools/demo.py\" \\\n",
        "# --weights \"models/best_yolov7.pt\" \\\n",
        "# --name \"testing\" \\\n",
        "# --img-size 640 \\\n",
        "# --agnostic-nms \\\n",
        "# --source \"test/CH09_1_2_1.mp4\"\\\n",
        "# --entry_line_config \"configs/entry_line_config2.json\"\n",
        "\n",
        "!python \"tools/demo.py\" \\\n",
        "--weights \"models/best_yolov7.pt\" \\\n",
        "--name \"testing\" \\\n",
        "--img-size 640 \\\n",
        "--agnostic-nms \\\n",
        "--source \"test/jul2.mp4\"\\\n",
        "--entry_line_config \"configs/entry_line_config2.json\"\\\n",
        "--entry_area_position \"right\""
      ],
      "metadata": {
        "id": "3GSMY4JPcCvu",
        "colab": {
          "base_uri": "https://localhost:8080/"
        },
        "outputId": "f2cec56b-4a21-4bd7-8445-5b89c18edeab"
      },
      "execution_count": 15,
      "outputs": [
        {
          "output_type": "stream",
          "name": "stdout",
          "text": [
            "'=4.4'\t\t\t Miniconda3-latest-Linux-x86_64.sh\t temp\n",
            " configs\t\t Miniconda3-py37_4.8.2-Linux-x86_64.sh\t test\n",
            " deep-person-reid\t models\t\t\t\t\t tools\n",
            " Entry_Exit_REID.ipynb\t requirements.txt\t\t\t tracker\n",
            " id_assigner\t\t runs\t\t\t\t\t yolov7\n",
            "Namespace(project='runs/detect', name='testing', exist_ok=False, weights=['models/best_yolov7.pt'], source='test/jul2.mp4', img_size=640, conf_thres=0.09, iou_thres=0.7, device='', view_img=False, save_txt=False, save_conf=False, nosave=False, classes=None, agnostic_nms=True, augment=False, update=False, trace=False, hide_labels_name=False, track_thresh=0.5, track_buffer=10, match_thresh=0.8, aspect_ratio_thresh=1.6, min_box_area=10, mot20=False, with_id_assigner=True, entry_line_config='configs/entry_line_config2.json', entry_area_position='right')\n",
            "YOLOR 🚀 2022-11-23 torch 1.13.1+cu117 CPU\n",
            "\n",
            "Fusing layers... \n",
            "RepConv.fuse_repvgg_block\n",
            "RepConv.fuse_repvgg_block\n",
            "RepConv.fuse_repvgg_block\n",
            "IDetect.fuse\n",
            "/usr/local/lib/python3.9/site-packages/torch/functional.py:504: UserWarning: torch.meshgrid: in an upcoming release, it will be required to pass the indexing argument. (Triggered internally at ../aten/src/ATen/native/TensorShape.cpp:3190.)\n",
            "  return _VF.meshgrid(tensors, **kwargs)  # type: ignore[attr-defined]\n",
            "Model Summary: 314 layers, 36481772 parameters, 6194944 gradients, 103.2 GFLOPS\n",
            "CUDA is active?:  False\n",
            "Model: osnet_x1_0\n",
            "- params: 2,193,616\n",
            "- flops: 978,878,352\n",
            "Successfully loaded pretrained weights from \"models/model.pth.tar-60\"\n",
            "** The following layers are discarded due to unmatched keys or layer size: ['classifier.weight', 'classifier.bias']\n",
            "Traceback (most recent call last):\n",
            "  File \"/content/drive/MyDrive/Colab Notebooks/MGN/Entry_Exit_REID/tools/demo.py\", line 325, in <module>\n",
            "    main()\n",
            "  File \"/content/drive/MyDrive/Colab Notebooks/MGN/Entry_Exit_REID/tools/demo.py\", line 87, in main\n",
            "    id_assigner = ID_Assigner(\n",
            "  File \"/content/drive/MyDrive/Colab Notebooks/MGN/Entry_Exit_REID/./id_assigner/id_assigner.py\", line 61, in __init__\n",
            "    self.feat_extractor = FeatureExtractor(\n",
            "  File \"/content/drive/MyDrive/Colab Notebooks/MGN/Entry_Exit_REID/deep-person-reid/torchreid/utils/feature_extractor.py\", line 101, in __init__\n",
            "    model.to(device)\n",
            "  File \"/usr/local/lib/python3.9/site-packages/torch/nn/modules/module.py\", line 989, in to\n",
            "    return self._apply(convert)\n",
            "  File \"/usr/local/lib/python3.9/site-packages/torch/nn/modules/module.py\", line 641, in _apply\n",
            "    module._apply(fn)\n",
            "  File \"/usr/local/lib/python3.9/site-packages/torch/nn/modules/module.py\", line 641, in _apply\n",
            "    module._apply(fn)\n",
            "  File \"/usr/local/lib/python3.9/site-packages/torch/nn/modules/module.py\", line 664, in _apply\n",
            "    param_applied = fn(param)\n",
            "  File \"/usr/local/lib/python3.9/site-packages/torch/nn/modules/module.py\", line 987, in convert\n",
            "    return t.to(device, dtype if t.is_floating_point() or t.is_complex() else None, non_blocking)\n",
            "  File \"/usr/local/lib/python3.9/site-packages/torch/cuda/__init__.py\", line 229, in _lazy_init\n",
            "    torch._C._cuda_init()\n",
            "RuntimeError: No CUDA GPUs are available\n"
          ]
        }
      ]
    },
    {
      "cell_type": "code",
      "source": [
        "import numpy as np\n",
        "a = np.array([[1,2,3], [4,5,6]])\n",
        "b = a.copy().tolist()\n",
        "print(a.shape)\n",
        "print(len(b))\n",
        "print(a)\n",
        "print(b)"
      ],
      "metadata": {
        "colab": {
          "base_uri": "https://localhost:8080/"
        },
        "id": "DSfeINyZ7xSs",
        "outputId": "ecd6d2ac-a255-4f58-b057-67d80274fc76"
      },
      "execution_count": null,
      "outputs": [
        {
          "output_type": "stream",
          "name": "stdout",
          "text": [
            "(2, 3)\n",
            "2\n",
            "[[1 2 3]\n",
            " [4 5 6]]\n",
            "[[1, 2, 3], [4, 5, 6]]\n"
          ]
        }
      ]
    },
    {
      "cell_type": "code",
      "source": [
        "l = [1,2,3,4]\n",
        "l.pop(0)\n",
        "l.append(5)\n",
        "print(l)"
      ],
      "metadata": {
        "id": "RSTYGeZhSSFd",
        "colab": {
          "base_uri": "https://localhost:8080/"
        },
        "outputId": "90ed44f7-5f4f-43d5-c48e-ef1e208efd96"
      },
      "execution_count": null,
      "outputs": [
        {
          "output_type": "stream",
          "name": "stdout",
          "text": [
            "[2, 3, 4, 5]\n"
          ]
        }
      ]
    },
    {
      "cell_type": "code",
      "source": [
        "import numpy as np\n",
        "from scipy.spatial import distance\n",
        "b = np.array([[0, 0, 0],\n",
        "              [0, 0, 1],\n",
        "              [0, 1, 0],\n",
        "              [0, 1, 1],\n",
        "              [1, 0, 0],\n",
        "              [1, 0, 1],\n",
        "              [1, 1, 0],\n",
        "              [1, 1, 1],\n",
        "              [ 0.1,  0.2,  0.4],\n",
        "              [ 0.1,  0.2,  0.4],\n",
        "              [ 0.1,  0.2,  0.4],\n",
        "              [ 0.1,  0.2,  0.4],\n",
        "              ])\n",
        "a = np.array([[ 0.1,  0.2,  0.4],\n",
        "              # [ 1,0,0],\n",
        "              # [ 0,1,0],\n",
        "              # [ 0,0,1],\n",
        "              # [ 0,1,1],\n",
        "              ])\n",
        "d = distance.cdist(a, b, 'cityblock')\n",
        "print(a.shape)\n",
        "\n",
        "print(d)\n"
      ],
      "metadata": {
        "colab": {
          "base_uri": "https://localhost:8080/"
        },
        "id": "eED6zOOojh2Z",
        "outputId": "9b99cfb6-d99a-47b0-de5e-6c0a16b89890"
      },
      "execution_count": null,
      "outputs": [
        {
          "output_type": "stream",
          "name": "stdout",
          "text": [
            "(1, 3)\n",
            "[[0.7 0.9 1.3 1.5 1.5 1.7 2.1 2.3 0.  0.  0.  0. ]]\n"
          ]
        }
      ]
    },
    {
      "cell_type": "code",
      "source": [
        "!conda list"
      ],
      "metadata": {
        "colab": {
          "base_uri": "https://localhost:8080/"
        },
        "id": "uyKQj47xeXNH",
        "outputId": "a6ff1e72-9bf7-4b78-edaf-0cabc9c8d9b2"
      },
      "execution_count": null,
      "outputs": [
        {
          "output_type": "stream",
          "name": "stdout",
          "text": [
            "# packages in environment at /usr/local:\n",
            "#\n",
            "# Name                    Version                   Build  Channel\n",
            "_libgcc_mutex             0.1                        main  \n",
            "absl-py                   1.3.0                    pypi_0    pypi\n",
            "asn1crypto                1.3.0                    py37_0  \n",
            "backcall                  0.2.0                    pypi_0    pypi\n",
            "beautifulsoup4            4.11.1                   pypi_0    pypi\n",
            "ca-certificates           2020.1.1                      0  \n",
            "cachetools                5.2.0                    pypi_0    pypi\n",
            "certifi                   2019.11.28               py37_0  \n",
            "cffi                      1.14.0           py37h2e261b9_0  \n",
            "chardet                   3.0.4                 py37_1003  \n",
            "charset-normalizer        2.1.1                    pypi_0    pypi\n",
            "conda                     4.8.2                    py37_0  \n",
            "conda-package-handling    1.6.0            py37h7b6447c_0  \n",
            "cryptography              2.8              py37h1ba5d50_0  \n",
            "cycler                    0.11.0                   pypi_0    pypi\n",
            "cython                    0.29.32                  pypi_0    pypi\n",
            "cython-bbox               0.1.3                    pypi_0    pypi\n",
            "decorator                 5.1.1                    pypi_0    pypi\n",
            "filelock                  3.8.0                    pypi_0    pypi\n",
            "flake8                    5.0.4                    pypi_0    pypi\n",
            "fonttools                 4.38.0                   pypi_0    pypi\n",
            "future                    0.18.2                   pypi_0    pypi\n",
            "gdown                     4.5.3                    pypi_0    pypi\n",
            "google-auth               2.14.1                   pypi_0    pypi\n",
            "google-auth-oauthlib      0.4.6                    pypi_0    pypi\n",
            "grpcio                    1.50.0                   pypi_0    pypi\n",
            "h5py                      3.7.0                    pypi_0    pypi\n",
            "idna                      2.8                      py37_0  \n",
            "imageio                   2.22.4                   pypi_0    pypi\n",
            "importlib-metadata        4.2.0                    pypi_0    pypi\n",
            "ipython                   7.34.0                   pypi_0    pypi\n",
            "isort                     4.3.21                   pypi_0    pypi\n",
            "jedi                      0.18.2                   pypi_0    pypi\n",
            "kiwisolver                1.4.4                    pypi_0    pypi\n",
            "lap                       0.4.0                    pypi_0    pypi\n",
            "ld_impl_linux-64          2.33.1               h53a641e_7  \n",
            "libedit                   3.1.20181209         hc058e9b_0  \n",
            "libffi                    3.2.1                hd88cf55_4  \n",
            "libgcc-ng                 9.1.0                hdf63c60_0  \n",
            "libstdcxx-ng              9.1.0                hdf63c60_0  \n",
            "markdown                  3.4.1                    pypi_0    pypi\n",
            "markupsafe                2.1.1                    pypi_0    pypi\n",
            "matplotlib                3.5.3                    pypi_0    pypi\n",
            "matplotlib-inline         0.1.6                    pypi_0    pypi\n",
            "mccabe                    0.7.0                    pypi_0    pypi\n",
            "ncurses                   6.2                  he6710b0_0  \n",
            "numpy                     1.21.6                   pypi_0    pypi\n",
            "nvidia-cublas-cu11        11.10.3.66               pypi_0    pypi\n",
            "nvidia-cuda-nvrtc-cu11    11.7.99                  pypi_0    pypi\n",
            "nvidia-cuda-runtime-cu11  11.7.99                  pypi_0    pypi\n",
            "nvidia-cudnn-cu11         8.5.0.96                 pypi_0    pypi\n",
            "oauthlib                  3.2.2                    pypi_0    pypi\n",
            "opencv-python             4.6.0.66                 pypi_0    pypi\n",
            "openssl                   1.1.1d               h7b6447c_4  \n",
            "packaging                 21.3                     pypi_0    pypi\n",
            "pandas                    1.3.5                    pypi_0    pypi\n",
            "parso                     0.8.3                    pypi_0    pypi\n",
            "pexpect                   4.8.0                    pypi_0    pypi\n",
            "pickleshare               0.7.5                    pypi_0    pypi\n",
            "pillow                    9.3.0                    pypi_0    pypi\n",
            "pip                       20.0.2                   py37_1  \n",
            "prompt-toolkit            3.0.33                   pypi_0    pypi\n",
            "protobuf                  4.21.2                   pypi_0    pypi\n",
            "psutil                    5.9.4                    pypi_0    pypi\n",
            "ptyprocess                0.7.0                    pypi_0    pypi\n",
            "pyasn1                    0.4.8                    pypi_0    pypi\n",
            "pyasn1-modules            0.2.8                    pypi_0    pypi\n",
            "pycodestyle               2.9.1                    pypi_0    pypi\n",
            "pycosat                   0.6.3            py37h7b6447c_0  \n",
            "pycparser                 2.19                     py37_0  \n",
            "pyflakes                  2.5.0                    pypi_0    pypi\n",
            "pygments                  2.13.0                   pypi_0    pypi\n",
            "pyopenssl                 19.1.0                   py37_0  \n",
            "pyparsing                 3.0.9                    pypi_0    pypi\n",
            "pysocks                   1.7.1                    py37_0  \n",
            "python                    3.7.6                h0371630_2  \n",
            "python-dateutil           2.8.2                    pypi_0    pypi\n",
            "pytz                      2022.6                   pypi_0    pypi\n",
            "pyyaml                    6.0                      pypi_0    pypi\n",
            "readline                  7.0                  h7b6447c_5  \n",
            "requests                  2.28.1                   pypi_0    pypi\n",
            "requests-oauthlib         1.3.1                    pypi_0    pypi\n",
            "rsa                       4.9                      pypi_0    pypi\n",
            "ruamel_yaml               0.15.87          py37h7b6447c_0  \n",
            "scipy                     1.7.3                    pypi_0    pypi\n",
            "seaborn                   0.12.1                   pypi_0    pypi\n",
            "setuptools                45.2.0                   py37_0  \n",
            "six                       1.14.0                   py37_0  \n",
            "soupsieve                 2.3.2.post1              pypi_0    pypi\n",
            "sqlite                    3.31.1               h7b6447c_0  \n",
            "tb-nightly                2.12.0a20221122          pypi_0    pypi\n",
            "tensorboard               2.11.0                   pypi_0    pypi\n",
            "tensorboard-data-server   0.6.1                    pypi_0    pypi\n",
            "tensorboard-plugin-wit    1.8.1                    pypi_0    pypi\n",
            "thop                      0.1.1-2209072238          pypi_0    pypi\n",
            "tk                        8.6.8                hbc83047_0  \n",
            "torch                     1.13.0                   pypi_0    pypi\n",
            "torchreid                 0.2.5                    pypi_0    pypi\n",
            "torchvision               0.14.0                   pypi_0    pypi\n",
            "tqdm                      4.42.1                     py_0  \n",
            "traitlets                 5.5.0                    pypi_0    pypi\n",
            "typing-extensions         4.4.0                    pypi_0    pypi\n",
            "urllib3                   1.25.8                   py37_0  \n",
            "wcwidth                   0.2.5                    pypi_0    pypi\n",
            "werkzeug                  2.2.2                    pypi_0    pypi\n",
            "wheel                     0.34.2                   py37_0  \n",
            "xz                        5.2.4                h14c3975_4  \n",
            "yacs                      0.1.8                    pypi_0    pypi\n",
            "yaml                      0.1.7                had09818_2  \n",
            "yapf                      0.32.0                   pypi_0    pypi\n",
            "zipp                      3.10.0                   pypi_0    pypi\n",
            "zlib                      1.2.11               h7b6447c_3  \n"
          ]
        }
      ]
    },
    {
      "cell_type": "code",
      "source": [],
      "metadata": {
        "id": "_XRGmMsOohdL"
      },
      "execution_count": null,
      "outputs": []
    },
    {
      "cell_type": "markdown",
      "source": [
        "# Training Boi"
      ],
      "metadata": {
        "id": "IHf62oR7rw0U"
      }
    },
    {
      "cell_type": "code",
      "source": [
        "!gdown"
      ],
      "metadata": {
        "id": "1vxI_wbWsH54"
      },
      "execution_count": null,
      "outputs": []
    },
    {
      "cell_type": "code",
      "source": [
        "import zipfile\n",
        "with zipfile.ZipFile(\"/content/drive/MyDrive/Colab Notebooks/MGN/Market-1501-v15.09.15.zip\",\"r\") as zip_ref:\n",
        "    zip_ref.extractall(\"/content/drive/MyDrive/Colab Notebooks/MGN/deep-person-reid/reid-data/market1501\")"
      ],
      "metadata": {
        "id": "Edtmy9jrrxxT"
      },
      "execution_count": null,
      "outputs": []
    },
    {
      "cell_type": "code",
      "source": [
        "from glob import glob\n",
        "glob(\"//content/drive/MyDrive/Colab Notebooks/MGN/deep-person-reid/reid-data/market1501/Market-1501-v15.09.15/*/\", recursive = True)"
      ],
      "metadata": {
        "id": "g_E2NYFFsG3z"
      },
      "execution_count": null,
      "outputs": []
    },
    {
      "cell_type": "code",
      "source": [
        "import torchreid\n",
        "\n",
        "datamanager = torchreid.data.ImageDataManager(\n",
        "    root=\"reid-data\",\n",
        "    sources=\"market1501\",\n",
        "    targets=\"market1501\",\n",
        "    height=256,\n",
        "    width=128,\n",
        "    batch_size_train=32,\n",
        "    batch_size_test=100,\n",
        "    transforms=[\"random_flip\", \"random_crop\"]\n",
        ")\n",
        "model = torchreid.models.build_model(\n",
        "    name=\"osnet_x1_0\",\n",
        "    num_classes=datamanager.num_train_pids,\n",
        "    loss=\"softmax\",\n",
        "    pretrained=True\n",
        ")\n",
        "\n",
        "model = model.cuda()\n",
        "\n",
        "optimizer = torchreid.optim.build_optimizer(\n",
        "    model,\n",
        "    optim=\"adam\",\n",
        "    lr=0.0003\n",
        ")\n",
        "\n",
        "scheduler = torchreid.optim.build_lr_scheduler(\n",
        "    optimizer,\n",
        "    lr_scheduler=\"single_step\",\n",
        "    stepsize=20\n",
        ")\n",
        "engine = torchreid.engine.ImageSoftmaxEngine(\n",
        "    datamanager,\n",
        "    model,\n",
        "    optimizer=optimizer,\n",
        "    scheduler=scheduler,\n",
        "    label_smooth=True\n",
        ")\n",
        "engine.run(\n",
        "    save_dir=\"log/resnet50\",\n",
        "    max_epoch=60,\n",
        "    eval_freq=10,\n",
        "    print_freq=100,\n",
        "    test_only=False\n",
        ")"
      ],
      "metadata": {
        "id": "zJyqoIpFsPUo"
      },
      "execution_count": null,
      "outputs": []
    }
  ]
}